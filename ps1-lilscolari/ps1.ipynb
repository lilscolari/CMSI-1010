{
  "cells": [
    {
      "cell_type": "markdown",
      "metadata": {
        "id": "view-in-github",
        "colab_type": "text"
      },
      "source": [
        "<a href=\"https://colab.research.google.com/github/LMU-CMSI-1010/ps1-lilscolari/blob/main/ps1.ipynb\" target=\"_parent\"><img src=\"https://colab.research.google.com/assets/colab-badge.svg\" alt=\"Open In Colab\"/></a>"
      ]
    },
    {
      "cell_type": "markdown",
      "metadata": {
        "id": "hPDuMyh8E7me"
      },
      "source": [
        "# Problem Set 1\n",
        "#### CMSI 1010: Computer Programming and Lab"
      ]
    },
    {
      "cell_type": "markdown",
      "metadata": {
        "id": "fGd49GigE7mi"
      },
      "source": [
        "##### Important Dates\n",
        "\n",
        " - Released: 2022-09-13 at 12:00 am [PT]\n",
        " - Deadline: 2022-09-20 at 11:59 pm [PT]"
      ]
    },
    {
      "cell_type": "markdown",
      "metadata": {
        "id": "zIxMn6NeE7mj"
      },
      "source": [
        "# Question 1: Reading\n",
        "* Chapter 2 in the _Think Python_ textbook: http://greenteapress.com/thinkpython2/thinkpython2.pdf"
      ]
    },
    {
      "cell_type": "markdown",
      "metadata": {
        "id": "gQGVQoBQE7mj"
      },
      "source": [
        "•\tManipulating variables\n",
        "\n",
        "•\tMany types of variables: string, integer, float, etc.\n",
        "\n",
        "•\tVariable names parameters - syntax error if wrong\n",
        "\n",
        "•\tExpressions\n",
        "\n",
        "•\tstatements have effects and the interpreter executes them\n",
        "\n",
        "•\tOrder of operations: PEMDAS on integers and floats.\n",
        "\n",
        "•\t+ for string concatenation\n",
        "\n",
        "•\tComments to make code neater and help understand more complicated code. \n",
        "Others can read your comments and see what your intentions when coding were.\n",
        "\n",
        "•\tDebugging errors: syntax, runtime, semantic\n",
        "\n"
      ]
    },
    {
      "cell_type": "markdown",
      "metadata": {
        "id": "W7ZcRdu4E7mk"
      },
      "source": [
        "# Question 2\n",
        "\n",
        "Refer to the above link for the following exercises and edit this file with your answers. Try to take full advantage of [Markdown](https://guides.github.com/features/mastering-markdown/) so that your answers are clearly and beautifully formatted!"
      ]
    },
    {
      "cell_type": "markdown",
      "metadata": {
        "id": "wC7vdkeIE7mk"
      },
      "source": [
        "### Part A\n",
        "\n",
        " **Textbook exercise 2.1**"
      ]
    },
    {
      "cell_type": "markdown",
      "metadata": {
        "id": "w-Y3Jj26E7ml"
      },
      "source": [
        "We’ve seen that n = 42 is legal. What about 42 = n?"
      ]
    },
    {
      "cell_type": "markdown",
      "metadata": {
        "id": "8qwAWbReE7ml"
      },
      "source": [
        "<sub>*42 = n is not legal because you cannot start a variable name with a number.*</sub>\n",
        "\n",
        "\n",
        "\n"
      ]
    },
    {
      "cell_type": "markdown",
      "metadata": {
        "id": "7rEi2PNHE7mm"
      },
      "source": [
        "How about x = y = 1?"
      ]
    },
    {
      "cell_type": "markdown",
      "source": [
        "  <sub>*Assigns the value 1 to both variables x and y.*<sub/>"
      ],
      "metadata": {
        "id": "k69ehfieao8I"
      }
    },
    {
      "cell_type": "markdown",
      "metadata": {
        "id": "lxOBe-dmE7mn"
      },
      "source": [
        "In some languages every statement ends with a semi-colon ;. What happens if you put a semi-colon at the end of a Python statement?"
      ]
    },
    {
      "cell_type": "markdown",
      "metadata": {
        "id": "pLW-NOuNE7mn"
      },
      "source": [
        "<sub>*The semicolon does not affect the outcome of the code. The statement still executes and runs.*<sub/>"
      ]
    },
    {
      "cell_type": "markdown",
      "metadata": {
        "id": "pa0yIjPkE7mn"
      },
      "source": [
        "What if you put a period at the end of a statement?"
      ]
    },
    {
      "cell_type": "markdown",
      "metadata": {
        "id": "guyoDPMGE7mn"
      },
      "source": [
        "<sub>*The period invalidates the statement and is improper syntax.*<sub/>"
      ]
    },
    {
      "cell_type": "markdown",
      "metadata": {
        "id": "X2h8EtaBE7mo"
      },
      "source": [
        "In math notation you can multiply x and y like this: x y. What happens if you try that in Python?"
      ]
    },
    {
      "cell_type": "markdown",
      "metadata": {
        "id": "EWqiWt-rE7mo"
      },
      "source": [
        "<sub>*In Python, you need to use a asterisk to multiply two variables. xy is not a valid variable and x y is invalid syntax.*<sub/>"
      ]
    },
    {
      "cell_type": "markdown",
      "metadata": {
        "id": "OOQSvbr5E7mo"
      },
      "source": [
        "### Part B\n",
        " **Textbook exercise 2.2** (parts 1, 2, and 3)\n",
        "\n",
        "Practice using Python as a calculator:"
      ]
    },
    {
      "cell_type": "markdown",
      "metadata": {
        "id": "F9SJwed3E7mo"
      },
      "source": [
        "The volume of a sphere with radius $r$ is $4/3 π r^3$. What is the volume of a sphere with radius 5?"
      ]
    },
    {
      "cell_type": "code",
      "execution_count": 1,
      "metadata": {
        "id": "Ihks2SlOE7mp",
        "colab": {
          "base_uri": "https://localhost:8080/"
        },
        "outputId": "c4de9b60-4318-4cfb-a03a-256f804375fc"
      },
      "outputs": [
        {
          "output_type": "stream",
          "name": "stdout",
          "text": [
            "523.5987755982989\n"
          ]
        }
      ],
      "source": [
        "v = (4 / 3) * 3.141592653589793238462643383 * (5 ** 3)\n",
        "print(v)"
      ]
    },
    {
      "cell_type": "markdown",
      "metadata": {
        "id": "BQHHKTaBE7mq"
      },
      "source": [
        "Suppose the cover price of a book is $\\$ 24.95$, but bookstores get a $40\\%$ discount. Shipping costs $\\$3$ for the first copy and 75 cents for each additional copy. What is the total wholesale cost for 60 copies?"
      ]
    },
    {
      "cell_type": "code",
      "execution_count": 2,
      "metadata": {
        "id": "E3QU8kt2E7mq",
        "colab": {
          "base_uri": "https://localhost:8080/"
        },
        "outputId": "52bf77fb-a1ba-48e0-8d70-80e007dfdcd3"
      },
      "outputs": [
        {
          "output_type": "stream",
          "name": "stdout",
          "text": [
            "945.4499999999999\n"
          ]
        }
      ],
      "source": [
        "total = (((24.95 * 0.60) * 60) + 3 + (0.75 * 59))\n",
        "print(total)"
      ]
    },
    {
      "cell_type": "markdown",
      "metadata": {
        "id": "WweWmZSGE7mq"
      },
      "source": [
        "If I leave my house at 6:52 am and run 1 mile at an easy pace (8:15 per mile), then 3 miles at tempo (7:12 per mile) and 1 mile at easy pace again, what time do I get home for breakfast?"
      ]
    },
    {
      "cell_type": "code",
      "execution_count": 14,
      "metadata": {
        "id": "ygTl43TmE7mq",
        "colab": {
          "base_uri": "https://localhost:8080/"
        },
        "outputId": "fd586129-b77c-4a66-89f0-9ad02da8b2ea"
      },
      "outputs": [
        {
          "output_type": "stream",
          "name": "stdout",
          "text": [
            "It took you 7 hours, 30 minutes and 6 seconds to get home.\n"
          ]
        }
      ],
      "source": [
        "hours = 6\n",
        "mins = 52 + (8 * 2) + (7 * 3)\n",
        "seconds = (15 * 2) + (12 * 3)\n",
        "\n",
        "while seconds > 60:\n",
        "  mins += 1\n",
        "  seconds -= 60\n",
        "while mins > 60:\n",
        "  hours += 1\n",
        "  mins -= 60\n",
        "print('It took you ' + str(hours), 'hours, ' + str(mins), 'minutes and ' + str(seconds), 'seconds to get home.')\n"
      ]
    },
    {
      "cell_type": "markdown",
      "metadata": {
        "id": "va7JQT-tE7mq"
      },
      "source": [
        "# Question 3\n",
        "\n",
        "#### Programming: Write a Mad Lib\n",
        "Mad Libs are word games where one player fills in the blanks of another player’s story by providing words of certain types. When the words are substituted in for the blanks, the result is a complete, grammatically correct, but often nonsensical, story.\n",
        "\n",
        "In this question, we are going to write a program that lets the user make a Mad Lib!\n",
        "\n",
        "First, you will need a Mad Lib: feel free to write your own or choose one from http://www.madglibs.com"
      ]
    },
    {
      "cell_type": "markdown",
      "metadata": {
        "id": "6Fhj7Hb8E7mr"
      },
      "source": [
        "Now, using the `input` function we learned in class, prompt the user for words to fill in the blanks. Ask the user for at least four (4) values (e.g., ADJ, NOUN, VERB, etc.)."
      ]
    },
    {
      "cell_type": "code",
      "execution_count": 20,
      "metadata": {
        "id": "ZkBEOUZZE7mr",
        "colab": {
          "base_uri": "https://localhost:8080/"
        },
        "outputId": "26365fd9-c3b6-40b2-bf48-64c61f392c23"
      },
      "outputs": [
        {
          "name": "stdout",
          "output_type": "stream",
          "text": [
            "Enter an adjective: red\n",
            "Enter an noun: dog\n",
            "Enter an verb: sprints\n",
            "Enter an name: Cameron\n"
          ]
        }
      ],
      "source": [
        "adj = input('Enter an adjective: ')\n",
        "noun = input('Enter an noun: ')\n",
        "verb = input('Enter an verb: ')\n",
        "name = input('Enter an name: ')"
      ]
    },
    {
      "cell_type": "markdown",
      "metadata": {
        "id": "uQ82WiS6E7mr"
      },
      "source": [
        "Finally, print out the story for the user!"
      ]
    },
    {
      "cell_type": "code",
      "execution_count": 22,
      "metadata": {
        "id": "q-rwAaPRE7mr",
        "colab": {
          "base_uri": "https://localhost:8080/"
        },
        "outputId": "d722d225-df6a-4dfb-e045-8b26aad88efa"
      },
      "outputs": [
        {
          "output_type": "stream",
          "name": "stdout",
          "text": [
            "Cameron ran away from the red dog. The dog sprints Cameron until it was time to go. Cameron hid from the red dog for a week. Cameron now lives in fear and sprints all day long.\n"
          ]
        }
      ],
      "source": [
        "print(name, 'ran away from the', adj, noun +'. The', noun, verb, name, 'until it was time to go.', name, 'hid from the', adj, noun, 'for a week.', name, \n",
        "      'now lives in fear and', verb, 'all day long.')"
      ]
    },
    {
      "cell_type": "markdown",
      "source": [
        "# Optional: Submit a selfie with a CMSI TA!"
      ],
      "metadata": {
        "id": "stn-X-77FtYZ"
      }
    },
    {
      "cell_type": "markdown",
      "source": [
        "https://drive.google.com/file/d/1bwl6lY9oyY3qFG6lgm7ACZLwzZTiV02O/view?usp=sharing"
      ],
      "metadata": {
        "id": "_Dj-LIJ__lnU"
      }
    }
  ],
  "metadata": {
    "kernelspec": {
      "display_name": "Python 3",
      "language": "python",
      "name": "python3"
    },
    "language_info": {
      "codemirror_mode": {
        "name": "ipython",
        "version": 3
      },
      "file_extension": ".py",
      "mimetype": "text/x-python",
      "name": "python",
      "nbconvert_exporter": "python",
      "pygments_lexer": "ipython3",
      "version": "3.8.5"
    },
    "colab": {
      "provenance": [],
      "include_colab_link": true
    }
  },
  "nbformat": 4,
  "nbformat_minor": 0
}