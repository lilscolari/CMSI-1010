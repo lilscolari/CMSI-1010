{
  "cells": [
    {
      "cell_type": "markdown",
      "metadata": {
        "id": "view-in-github",
        "colab_type": "text"
      },
      "source": [
        "<a href=\"https://colab.research.google.com/github/LMU-CMSI-1010/ps3-lilscolari/blob/main/Copy_of_ps3.ipynb\" target=\"_parent\"><img src=\"https://colab.research.google.com/assets/colab-badge.svg\" alt=\"Open In Colab\"/></a>"
      ]
    },
    {
      "cell_type": "markdown",
      "metadata": {
        "id": "sFggzmYsfkMB"
      },
      "source": [
        "# Problem Set 3\n",
        "#### CMSI 1010: Computer Programming and Lab"
      ]
    },
    {
      "cell_type": "markdown",
      "metadata": {
        "id": "SIwEbAU8fkMF"
      },
      "source": [
        "# Important Dates\n",
        "\n",
        " - Released: 2022-09-29 at 12:00 am [PT]\n",
        " - Deadline: 2022-10-06 at 11:59 pm [PT]"
      ]
    },
    {
      "cell_type": "markdown",
      "metadata": {
        "id": "exLctFGDfkMF"
      },
      "source": [
        "# Question 1: Reading Notes\n",
        "\n",
        "All readings are from the [_Think Python_ textbook](http://greenteapress.com/thinkpython2/thinkpython2.pdf):\n",
        "* Supporting content for this pset: Chapters 7–9\n",
        "* Upcoming content: Chapters 11–13, 15–17\n",
        "\n",
        "Take notes from your readings and submit them as part of this pset."
      ]
    },
    {
      "cell_type": "markdown",
      "metadata": {
        "id": "UttS-YKMfkMG"
      },
      "source": [
        "Chapter 7\n",
        "\n",
        "•\tVariables can be reassigned\n",
        "\n",
        "•\tPython evaluates right side of ‘=’ before assigning it to the variable on the left side.\n",
        "\n",
        "•\tBefore you can update a variable, you must initialize it.\n",
        "\n",
        "•\tIncrement: adding 1\n",
        "\n",
        "•\tDecrement: subtracting 1\n",
        "\n",
        "•\tRepetition is called iteration\n",
        "\n",
        "•\tPick up at 7.3\n",
        "\n",
        "•\tInfinite loop results in important value not changing\n",
        "\n",
        "•\tBreak jumps out of a loop\n",
        "\n",
        "•\tAlgorithm: mechanical process for solving a category of problems\n",
        "\n",
        "•\tDebugging by bisection means splitting code in parts and making debugging \n",
        "easier.\n",
        "\n",
        "Chapter 8\n",
        "\n",
        "•\tStrings are sequence of characters\n",
        "\n",
        "•\tAccess a character one at a time with []\n",
        "\n",
        "•\tExpression in brackets is index\n",
        "\n",
        "•\tString index starts at 0\n",
        "\n",
        "•\tLen() returns number of characters in a string\n",
        "\n",
        "•\tTraversal: processing a string one character at a time\n",
        "\n",
        "•\tSegment of string is called a slice\n",
        "\n",
        "•\tIncludes number before ‘:’ and but excludes number after ‘:’\n",
        "\n",
        "•\tOmit first index means slice starts at beginning of string\n",
        "\n",
        "•\tOmit second index means slice goes to end of string\n",
        "\n",
        "•\tStrings are immutable (cannot change existing string)\n",
        "\n",
        "•\tString methods take an argument and return a value\n",
        "\n",
        "•\tA method call is an invocation\n",
        "\n",
        "•\tIn function is Boolean operator that takes two strings and returns True if the first one appears as a substring in the second\n",
        "\n",
        "•\tUppercase letters come before lowercase letters in terms of sorting for Python\n",
        "\n",
        "Chapter 9\n",
        "\n",
        "•\tOpen function in Python takes name of a file as parameter and returns file \n",
        "object you can use to read the file \n",
        "\n",
        "•\tReadline method reads characters from a file until a new line is reached and prints the result as a string\n",
        "\n",
        "•\tThe empty string is an example of a special case\n",
        "\n",
        "•\tSpecial case: non-obvious cases where errors can occur\n",
        "\n",
        "•\tReduction to a previously solved problem: problem you are working on is instance of previously solved problem so application of previous solution works"
      ]
    },
    {
      "cell_type": "markdown",
      "metadata": {
        "id": "xKebuoIKfkMG"
      },
      "source": [
        "# Question 2: Understanding loops"
      ]
    },
    {
      "cell_type": "markdown",
      "metadata": {
        "id": "T3yfbtyCfkMH"
      },
      "source": [
        "### Part A\n",
        " For these fragments of code, write the output **_without_** running them."
      ]
    },
    {
      "cell_type": "markdown",
      "metadata": {
        "id": "fqMJ2vF8fkMH"
      },
      "source": [
        "```python\n",
        "    num1 = 10\n",
        "    while num1 > 3:\n",
        "        print(num1)\n",
        "        num1 = num1 - 1\n",
        "```"
      ]
    },
    {
      "cell_type": "markdown",
      "metadata": {
        "id": "i8s8fCDtfkMH"
      },
      "source": [
        " #### Output:\n",
        "    ```\n",
        "    10\n",
        "    9\n",
        "    8\n",
        "    7\n",
        "    6\n",
        "    5\n",
        "    4\n",
        "    ```"
      ]
    },
    {
      "cell_type": "markdown",
      "metadata": {
        "id": "5RBxiU5mfkMI"
      },
      "source": [
        "```python\n",
        "    num2 = 10\n",
        "    while True:\n",
        "        if num2 < 7:\n",
        "            # break makes us quit the loop\n",
        "            break\n",
        "        print(num2)\n",
        "        num2 = num2 - 1\n",
        "```"
      ]
    },
    {
      "cell_type": "markdown",
      "metadata": {
        "id": "4znGow75fkMJ"
      },
      "source": [
        " #### Output:\n",
        "    ```\n",
        "    10\n",
        "    9\n",
        "    8\n",
        "    7\n",
        "    ```"
      ]
    },
    {
      "cell_type": "markdown",
      "metadata": {
        "id": "xo75GZx-fkMJ"
      },
      "source": [
        "```python\n",
        "    divisor = 2\n",
        "    for i in range(0, 10, 2):\n",
        "        print(i / divisor)\n",
        "```"
      ]
    },
    {
      "cell_type": "markdown",
      "metadata": {
        "id": "6bo8_yiffkMJ"
      },
      "source": [
        " #### Output:\n",
        "    ```\n",
        "    0.0\n",
        "    1.0\n",
        "    2.0\n",
        "    3.0\n",
        "    4.0\n",
        "    ```"
      ]
    },
    {
      "cell_type": "markdown",
      "metadata": {
        "id": "NyT8jVmlfkMK"
      },
      "source": [
        "### Part B\n",
        "\n",
        "These programs use `for` loops to iterate through strings."
      ]
    },
    {
      "cell_type": "markdown",
      "metadata": {
        "id": "ITcTb9Z4fkMK"
      },
      "source": [
        "```python\n",
        "    my_string = 'stressed'\n",
        "    for letter in my_string:\n",
        "        print(letter)\n",
        "```"
      ]
    },
    {
      "cell_type": "markdown",
      "metadata": {
        "id": "jTL8QtS9fkMK"
      },
      "source": [
        "#### Output:\n",
        "    ```\n",
        "    s\n",
        "    t\n",
        "    r\n",
        "    e\n",
        "    s\n",
        "    s\n",
        "    e\n",
        "    d\n",
        "    ```"
      ]
    },
    {
      "cell_type": "markdown",
      "metadata": {
        "id": "Q__wT7Q-fkMK"
      },
      "source": [
        "```python\n",
        "    my_string = 'stressed'\n",
        "    res = ''\n",
        "    for letter in my_string:\n",
        "        res = letter + res\n",
        "    print(res)\n",
        "```"
      ]
    },
    {
      "cell_type": "markdown",
      "metadata": {
        "id": "rKXmtnpCfkML"
      },
      "source": [
        "#### Output:\n",
        "    ```\n",
        "    desserts\n",
        "    ```"
      ]
    },
    {
      "cell_type": "markdown",
      "metadata": {
        "id": "zR4B2vxffkML"
      },
      "source": [
        "Describe, in natural language, what’s happening in this loop:"
      ]
    },
    {
      "cell_type": "markdown",
      "metadata": {
        "id": "cLziVY6ffkML"
      },
      "source": [
        "\n",
        "\n",
        "```\n",
        "# This is formatted as code\n",
        "```\n",
        "\n",
        "This loop iterates through the string and reverses it and assigns the reversed word into a new value."
      ]
    },
    {
      "cell_type": "markdown",
      "metadata": {
        "id": "NwQMJYNvfkML"
      },
      "source": [
        "# Question 3 : Exponentials\n",
        "\n",
        "Imagine that the `**` operator for numbers has now been removed from the Python programming language. Write a program that prompts the user for a base and an exponent and uses a `for` loop to calculate `base ** exp`. _**Note:** You should handle the case where the user does not type a positive integer._"
      ]
    },
    {
      "cell_type": "code",
      "execution_count": null,
      "metadata": {
        "id": "oJ1JTXQDfkMM"
      },
      "outputs": [],
      "source": [
        "def exponential(base, exp):\n",
        "\n",
        "    result = base\n",
        "\n",
        "    if exp == 0:\n",
        "        result = 1\n",
        "    elif exp < 0:\n",
        "        for i in range(0, exp - 1, -1):\n",
        "            result = 1 / (result * base)\n",
        "    else:\n",
        "        for i in range(0, exp - 1, 1):\n",
        "            result *= base\n",
        "\n",
        "    return result"
      ]
    },
    {
      "cell_type": "code",
      "execution_count": null,
      "metadata": {
        "id": "gcAA3X3YfkMN",
        "colab": {
          "base_uri": "https://localhost:8080/"
        },
        "outputId": "0d2c4f4f-32e4-46a2-be44-352fd33e158b"
      },
      "outputs": [
        {
          "name": "stdout",
          "output_type": "stream",
          "text": [
            "Enter a random number for the base: 5\n",
            "Enter a random number for the exponent: 3\n"
          ]
        },
        {
          "output_type": "execute_result",
          "data": {
            "text/plain": [
              "125"
            ]
          },
          "metadata": {},
          "execution_count": 41
        }
      ],
      "source": [
        "base = eval(input('Enter a random number for the base: '))\n",
        "exp = eval(input('Enter a random number for the exponent: '))\n",
        "exponential(base, exp)"
      ]
    },
    {
      "cell_type": "markdown",
      "metadata": {
        "id": "5i0PM5hgfkMN"
      },
      "source": [
        "The cells below are autograder cells; don't edit those! But you can run them (using the Run button) to test your own code! If they don't spit out any error messages, then your code works!"
      ]
    },
    {
      "cell_type": "code",
      "execution_count": null,
      "metadata": {
        "id": "9Fuyj6P0fkMN"
      },
      "outputs": [],
      "source": [
        "assert exponential(2,4) == 2**4"
      ]
    },
    {
      "cell_type": "code",
      "execution_count": null,
      "metadata": {
        "id": "cTr52zFCfkMN"
      },
      "outputs": [],
      "source": [
        "assert exponential(3,0) == 3**0"
      ]
    },
    {
      "cell_type": "code",
      "execution_count": null,
      "metadata": {
        "id": "v1DY1ulrfkMO"
      },
      "outputs": [],
      "source": [
        "assert exponential(-2,3) == (-2)**3"
      ]
    },
    {
      "cell_type": "code",
      "execution_count": null,
      "metadata": {
        "id": "Zv-lhwRdfkMO"
      },
      "outputs": [],
      "source": [
        "assert exponential(2,-2) == 2**(-2)"
      ]
    },
    {
      "cell_type": "code",
      "execution_count": null,
      "metadata": {
        "id": "HEzk7ijGfkMO"
      },
      "outputs": [],
      "source": [
        "import random\n",
        "\n",
        "num1 = random.randint(0,1000)\n",
        "num2 = random.randint(0,100)\n",
        "\n",
        "assert exponential(num1, num2) == num1**num2"
      ]
    },
    {
      "cell_type": "markdown",
      "metadata": {
        "id": "X7Bbl93ffkMO"
      },
      "source": [
        "# Question 4 : Functions and more functions"
      ]
    },
    {
      "cell_type": "markdown",
      "metadata": {
        "nbgrader": {
          "grade": false,
          "grade_id": "q1c_prompt",
          "locked": true,
          "schema_version": 1,
          "solution": false
        },
        "id": "R_uJg8XmfkMO"
      },
      "source": [
        "### Part A\n",
        "\n",
        "Write a function:\n",
        "\n",
        " - named `list_of_positive_indices`\n",
        " - takes 1 argument, a list\n",
        " - returns 1 value, a list\n",
        " \n",
        "In this function, you should loop through each element of the argument list. If the element is *positive*, then you should append the *index number of the positive element* to a new list. If not, skip that index (i.e. do nothing). Once the loop is finished, return the new list.\n",
        "\n",
        "For example, `list_of_positive_indices([1, -1, 0, 3])` should return `[0, 3]`. No imports!\n",
        "\n",
        "*HINT*: Instead of doing a simple `for element in list:` loop, try using the `range()` function in the loop header."
      ]
    },
    {
      "cell_type": "code",
      "execution_count": null,
      "metadata": {
        "id": "YJsAFogkfkMP"
      },
      "outputs": [],
      "source": [
        "def list_of_positive_indices(in_list):\n",
        "    list3 = []\n",
        "\n",
        "\n",
        "    for index in range(0, len(in_list)-1, 1):\n",
        "        if in_list[index] > 0:\n",
        "          list3.append(index)\n",
        "        else:\n",
        "          pass\n",
        "    return list3\n"
      ]
    },
    {
      "cell_type": "markdown",
      "metadata": {
        "id": "PgYjnlKcfkMP"
      },
      "source": [
        "Run the autograder cells below to test your code!"
      ]
    },
    {
      "cell_type": "code",
      "execution_count": null,
      "metadata": {
        "collapsed": true,
        "nbgrader": {
          "grade": true,
          "grade_id": "q1c_test1",
          "locked": true,
          "points": 5,
          "schema_version": 1,
          "solution": false
        },
        "id": "2tBDkc50fkMP"
      },
      "outputs": [],
      "source": [
        "import numpy as np\n",
        "np.random.seed(986)\n",
        "\n",
        "list1 = np.random.randint(-100, 100, 10)\n",
        "indices1 = np.arange(list1.shape[0])[list1 > 0].tolist()\n",
        "pred1 = list_of_positive_indices(list1.tolist())\n",
        "assert set(pred1) == set(indices1)"
      ]
    },
    {
      "cell_type": "code",
      "execution_count": null,
      "metadata": {
        "collapsed": true,
        "nbgrader": {
          "grade": true,
          "grade_id": "q1c_test2",
          "locked": true,
          "points": 5,
          "schema_version": 1,
          "solution": false
        },
        "id": "mPATc23VfkMP"
      },
      "outputs": [],
      "source": [
        "np.random.seed(578752)\n",
        "\n",
        "list2 = np.random.randint(-100, 100, 100)\n",
        "indices2 = np.arange(list2.shape[0])[list2 > 0].tolist()\n",
        "pred2 = list_of_positive_indices(list2.tolist())\n",
        "assert set(pred2) == set(indices2)"
      ]
    },
    {
      "cell_type": "markdown",
      "metadata": {
        "nbgrader": {
          "grade": false,
          "grade_id": "q2a_prompt",
          "locked": true,
          "schema_version": 1,
          "solution": false
        },
        "id": "7nbRkMgGfkMP"
      },
      "source": [
        "### Part B\n",
        "\n",
        "Write a function that tests if a number is even.\n",
        "\n",
        "*HINT*: Recall the modulo operator `%`. This performs division on two numbers, but instead of returning their quotient, it returns the *remainder* of the division. For example, `7 % 3` returns 1, since the quotient is 2 with a remainder of 1.\n",
        "\n",
        "Your function should:\n",
        "\n",
        " - be named `is_even`\n",
        " - take 1 argument, a number\n",
        " - return `True` if the argument is even, `False` otherwise\n",
        " \n",
        "Make sure you're returning a *boolean*!"
      ]
    },
    {
      "cell_type": "code",
      "execution_count": null,
      "metadata": {
        "collapsed": true,
        "nbgrader": {
          "grade": false,
          "grade_id": "q2a",
          "locked": false,
          "schema_version": 1,
          "solution": true
        },
        "id": "iSNTlvydfkMP"
      },
      "outputs": [],
      "source": [
        "def is_even(num):\n",
        "  if num % 2 == 0:\n",
        "    return True\n",
        "  else:\n",
        "    return False\n",
        "  "
      ]
    },
    {
      "cell_type": "code",
      "execution_count": null,
      "metadata": {
        "collapsed": true,
        "nbgrader": {
          "grade": true,
          "grade_id": "q2a_test1",
          "locked": true,
          "points": 2.5,
          "schema_version": 1,
          "solution": false
        },
        "id": "BKdz-JcCfkMQ"
      },
      "outputs": [],
      "source": [
        "assert is_even(3) == False"
      ]
    },
    {
      "cell_type": "code",
      "execution_count": null,
      "metadata": {
        "collapsed": true,
        "nbgrader": {
          "grade": true,
          "grade_id": "q2a_test2",
          "locked": true,
          "points": 2.5,
          "schema_version": 1,
          "solution": false
        },
        "id": "ta22ZUr8fkMQ"
      },
      "outputs": [],
      "source": [
        "assert is_even(123456789) == False"
      ]
    },
    {
      "cell_type": "code",
      "execution_count": null,
      "metadata": {
        "collapsed": true,
        "nbgrader": {
          "grade": true,
          "grade_id": "q2a_test3",
          "locked": true,
          "points": 2.5,
          "schema_version": 1,
          "solution": false
        },
        "id": "4wQr2b-5fkMQ"
      },
      "outputs": [],
      "source": [
        "assert is_even(42) == True"
      ]
    },
    {
      "cell_type": "code",
      "execution_count": null,
      "metadata": {
        "collapsed": true,
        "nbgrader": {
          "grade": true,
          "grade_id": "q2a_test4",
          "locked": true,
          "points": 2.5,
          "schema_version": 1,
          "solution": false
        },
        "id": "4GGUfcGifkMQ"
      },
      "outputs": [],
      "source": [
        "assert is_even(42.1) == False"
      ]
    },
    {
      "cell_type": "markdown",
      "metadata": {
        "nbgrader": {
          "grade": false,
          "grade_id": "q2b_prompt",
          "locked": true,
          "schema_version": 1,
          "solution": false
        },
        "id": "qIa06d9pfkMQ"
      },
      "source": [
        "### Part C\n",
        "\n",
        "How could you test if a number is *odd*, using your `is_even` function from Part B?\n",
        "\n",
        "Write your answer, either using 1 line of code or explaining in only 1 sentence, in the box below (double click on the statement below to activate the box)."
      ]
    },
    {
      "cell_type": "markdown",
      "metadata": {
        "nbgrader": {
          "grade": true,
          "grade_id": "q2b",
          "locked": false,
          "points": 5,
          "schema_version": 1,
          "solution": true
        },
        "id": "YtyHC6v_fkMQ"
      },
      "source": [
        "\n",
        "\n",
        "```\n",
        "If the is_even function returns false, then we know that our function is odd.\n",
        "```\n",
        "\n"
      ]
    },
    {
      "cell_type": "markdown",
      "metadata": {
        "nbgrader": {
          "grade": false,
          "grade_id": "q2c_prompt",
          "locked": true,
          "schema_version": 1,
          "solution": false
        },
        "id": "xnP3TI31fkMQ"
      },
      "source": [
        "### Part D *(Optional)*\n",
        "\n",
        "*This part is optional*. Write a function that finds the *second-smallest* number in a list of numbers. Your function should:\n",
        "\n",
        " - be named `second_smallest`\n",
        " - take 1 argument, a list of numbers\n",
        " - return 1 number, the second-smallest number in the list\n",
        " \n",
        "Take note of that last point. There's a possibility, after all, that the list your function receives as input will have 1 or even 0 elements in it. How, then, do you return the second-smallest element of a 0-element list? Well, simply, you can't. So instead, you'll return False.\n",
        "\n",
        "For example, `second_smallest([1, 2, 3])` should return `2`. Another example `second_smallest([10, 100, 1000, 10000])` should return 100. And `second_smallest([1])` should returb `False`.\n",
        "\n",
        "You **cannot** use any built-in sorting functions! Only `range()` and `len()`."
      ]
    },
    {
      "cell_type": "code",
      "execution_count": null,
      "metadata": {
        "nbgrader": {
          "grade": false,
          "grade_id": "q2c",
          "locked": false,
          "schema_version": 1,
          "solution": true
        },
        "id": "GXdtvvpafkMR"
      },
      "outputs": [],
      "source": [
        "def second_smallest(in_list):\n",
        "  pass"
      ]
    },
    {
      "cell_type": "code",
      "execution_count": null,
      "metadata": {
        "nbgrader": {
          "grade": true,
          "grade_id": "q2c_test1",
          "locked": true,
          "points": 5,
          "schema_version": 1,
          "solution": false
        },
        "id": "NavmS-njfkMR"
      },
      "outputs": [],
      "source": [
        "import numpy as np\n",
        "np.random.seed(89547)\n",
        "\n",
        "l1 = np.random.randint(-100, 100, 100)\n",
        "a1 = np.sort(l1)[1]\n",
        "np.testing.assert_allclose(a1, second_smallest(l1.tolist()))"
      ]
    },
    {
      "cell_type": "code",
      "execution_count": null,
      "metadata": {
        "nbgrader": {
          "grade": true,
          "grade_id": "q2c_test2",
          "locked": true,
          "points": 5,
          "schema_version": 1,
          "solution": false
        },
        "id": "MvO3PvGPfkMR"
      },
      "outputs": [],
      "source": [
        "np.random.seed(485)\n",
        "\n",
        "l2 = np.random.randint(0, 1000, 100)\n",
        "a2 = np.sort(l2)[1]\n",
        "np.testing.assert_allclose(a2, second_smallest(l2.tolist()))"
      ]
    },
    {
      "cell_type": "code",
      "execution_count": null,
      "metadata": {
        "nbgrader": {
          "grade": true,
          "grade_id": "q2c_test3",
          "locked": true,
          "points": 2.5,
          "schema_version": 1,
          "solution": false
        },
        "id": "3CnvmW2VfkMR"
      },
      "outputs": [],
      "source": [
        "assert second_smallest([]) == False"
      ]
    },
    {
      "cell_type": "code",
      "execution_count": null,
      "metadata": {
        "nbgrader": {
          "grade": true,
          "grade_id": "q2c_test4",
          "locked": true,
          "points": 2.5,
          "schema_version": 1,
          "solution": false
        },
        "id": "npfjxRbqfkMR"
      },
      "outputs": [],
      "source": [
        "assert second_smallest([100]) == False"
      ]
    },
    {
      "cell_type": "markdown",
      "metadata": {
        "id": "pbiH3qW3fkMR"
      },
      "source": [
        "# Question 5: Greetings"
      ]
    },
    {
      "cell_type": "markdown",
      "metadata": {
        "id": "eTr4NndefkMR"
      },
      "source": [
        "### Part A\n",
        "\n",
        "Print a greeting saying “Hello, Harry” and “Goodbye, Potter” using only the variables provided below. Complete instructions below."
      ]
    },
    {
      "cell_type": "code",
      "execution_count": 60,
      "metadata": {
        "id": "tmWsYNjvfkMR",
        "colab": {
          "base_uri": "https://localhost:8080/"
        },
        "outputId": "84cfbab2-78a6-4944-8e72-78233c03f4ef"
      },
      "outputs": [
        {
          "output_type": "stream",
          "name": "stdout",
          "text": [
            "*******************\n",
            "*                 *\n",
            "* Hello, Harry!!! *\n",
            "*                 *\n",
            "*******************\n",
            "\n",
            "***********************\n",
            "*                     *\n",
            "* Goodbye, Potter!!!  *\n",
            "*                     *\n",
            "***********************\n"
          ]
        }
      ],
      "source": [
        "# Write a series of print statements to recreate a \n",
        "# greeting box and a goodbye box for Harry Potter.\n",
        "\n",
        "# *******************\n",
        "# *                 *\n",
        "# * Hello, Harry!!! *\n",
        "# *                 *\n",
        "# *******************\n",
        "#\n",
        "# ***********************\n",
        "# *                     *\n",
        "# * Goodbye, Potter!!!  *\n",
        "# *                     *\n",
        "# ***********************\n",
        "\n",
        "\n",
        "name = 'Harry Potter'\n",
        "greeting = 'Hello, world!'\n",
        "goodbye = 'Goodbye, all!'\n",
        "space = ' '\n",
        "star = '*'\n",
        "\n",
        "\n",
        "# You may only use the variables defined above. \n",
        "# For example, if you wanted to print\n",
        "# a \"T\" in stars, you would do:\n",
        "\n",
        "# print (star * 3)\n",
        "# print (space + star + space)\n",
        "# print (space + star + space)\n",
        "\n",
        "# The answer below would not be acceptable:\n",
        "# print ('***')\n",
        "# print (' * ')\n",
        "# print (' * ')\n",
        "\n",
        "print(star * 19)\n",
        "print(star + space * 17 + star)\n",
        "print(star + space + greeting[0:7] + name[0:5] + greeting[-1] * 3 + space + star)\n",
        "print(star + space * 17 + star)\n",
        "print(star * 19)\n",
        "print()\n",
        "print(star * 23)\n",
        "print(star + space * 21 + star)\n",
        "print(star + space + goodbye[0:9] + name[6:12] + greeting[-1] * 3 + space * 2 + star)\n",
        "print(star + space * 21 + star)\n",
        "print(star * 23)"
      ]
    },
    {
      "cell_type": "markdown",
      "metadata": {
        "id": "hCT9POa-fkMS"
      },
      "source": [
        "### Part B\n",
        " \n",
        " **Reflection:** The output of `greetings` looks very similar to the one from PS0. However, the code looks different. How would you compare the two versions? What advantages/disadvantages do you see in the two approaches?"
      ]
    },
    {
      "cell_type": "markdown",
      "metadata": {
        "id": "cOMd8KaZfkMS"
      },
      "source": [
        "The two versions ultimately result in printing the imagined output but the one in ps3 is much more beneficial. The output in ps3 is constructed primarily from predefined strings. This means that the output can have more variability and can say more phrases. For example, I was able to slice the predefined strings and combine them together to get a different output. The only advantage I see with using the code from ps0 is that you can see exactly what it is you are printing before actually running the program."
      ]
    },
    {
      "cell_type": "markdown",
      "metadata": {
        "id": "uK7xy8tjfkMS"
      },
      "source": [
        "# Question 6: Acronym"
      ]
    },
    {
      "cell_type": "markdown",
      "metadata": {
        "id": "jylW-zVwfkMS"
      },
      "source": [
        "This exercise will allow you to practice with the methods for strings and lists. An acronym is a word formed by taking the first letters of the words in a phrase and making a word from them. For example, RAM is an acronym for “random access memory.” In this exercise, you are going to write a program that should allow the user to type in a phrase, and the computer should then output the acronym for that phrase. An example of how your program should work is as follows:"
      ]
    },
    {
      "cell_type": "markdown",
      "metadata": {
        "id": "dbAw58pnfkMS"
      },
      "source": [
        "```\n",
        "    Enter a phrase: loyola marymount university\n",
        "    Your acronym is: LMU\n",
        "```"
      ]
    },
    {
      "cell_type": "markdown",
      "metadata": {
        "id": "eaYPV5fyfkMS"
      },
      "source": [
        "**Note:** The acronym should be all uppercase, even if the words in the phrase are not capitalized."
      ]
    },
    {
      "cell_type": "code",
      "execution_count": 61,
      "metadata": {
        "id": "IsLigXSFfkMS",
        "colab": {
          "base_uri": "https://localhost:8080/"
        },
        "outputId": "934184d7-1af4-48ac-9f03-b772a474c5bb"
      },
      "outputs": [
        {
          "output_type": "stream",
          "name": "stdout",
          "text": [
            "Enter a phrase: i love loyola marymount university\n",
            "ILLMU\n"
          ]
        }
      ],
      "source": [
        "phrase = input('Enter a phrase: ').upper()\n",
        "list = phrase.split()\n",
        "\n",
        "acronym = ''\n",
        "\n",
        "for word in list:\n",
        "    acronym = acronym + word[0:1]\n",
        "\n",
        "print(acronym)"
      ]
    }
  ],
  "metadata": {
    "kernelspec": {
      "display_name": "Python 3",
      "language": "python",
      "name": "python3"
    },
    "language_info": {
      "codemirror_mode": {
        "name": "ipython",
        "version": 3
      },
      "file_extension": ".py",
      "mimetype": "text/x-python",
      "name": "python",
      "nbconvert_exporter": "python",
      "pygments_lexer": "ipython3",
      "version": "3.8.5"
    },
    "colab": {
      "provenance": [],
      "collapsed_sections": [],
      "include_colab_link": true
    }
  },
  "nbformat": 4,
  "nbformat_minor": 0
}