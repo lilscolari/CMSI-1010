{
  "cells": [
    {
      "cell_type": "markdown",
      "metadata": {
        "id": "view-in-github",
        "colab_type": "text"
      },
      "source": [
        "<a href=\"https://colab.research.google.com/github/LMU-CMSI-1010/lab-notebooks-lilscolari/blob/main/Copy_of_Lab03.ipynb\" target=\"_parent\"><img src=\"https://colab.research.google.com/assets/colab-badge.svg\" alt=\"Open In Colab\"/></a>"
      ]
    },
    {
      "cell_type": "markdown",
      "metadata": {
        "id": "Lt92sp27GiVj"
      },
      "source": [
        "<a href=\"https://colab.research.google.com/github/LMU-CMSI-1010/lab-notebooks-original/blob/main/Lab03.ipynb\" target=\"_parent\"><img src=\"https://colab.research.google.com/assets/colab-badge.svg\" alt=\"Open In Colab\"/></a>"
      ]
    },
    {
      "cell_type": "markdown",
      "metadata": {
        "id": "9aXfrLXg9seM"
      },
      "source": [
        "# Lab 03 Heat-Check\n",
        "In this lab you will practice writing functions that print results to the user and that return values.\n",
        "\n",
        "## From Celsius to Fahrenheit \n",
        "\n",
        "In class we presented a function that, given a temperature in Celsius, will print the temperature in Fahrenheit. We include it below as an example that you will use for the next function.\n",
        "\n"
      ]
    },
    {
      "cell_type": "code",
      "execution_count": 22,
      "metadata": {
        "id": "Rt0kFDWS9RJU",
        "outputId": "4bd94a7c-3195-404c-f86b-6aad1967019a",
        "colab": {
          "base_uri": "https://localhost:8080/"
        }
      },
      "outputs": [
        {
          "output_type": "stream",
          "name": "stdout",
          "text": [
            "0.0 C == 32.0 F\n"
          ]
        }
      ],
      "source": [
        "def print_as_fahrenheit(c):\n",
        "    f = ((9.0 / 5.0) * c) + 32.0\n",
        "    print(c, 'C ==', f, 'F')\n",
        "\n",
        "\n",
        "print_as_fahrenheit(0.0)"
      ]
    },
    {
      "cell_type": "markdown",
      "metadata": {
        "id": "y2c-tRWA91fr"
      },
      "source": [
        "## From Fahrenheit to Celsius\n",
        "\n",
        "Using the function `print_as_fahrenheit` for how to make the conversion between Fahrenheit and Celsius, **write a function `print_as_celsius(f)`**. This function should take as input a temperature in Fahrenheit and print the temperature in Celsius. We have given an example of how it should be printed for the example above. "
      ]
    },
    {
      "cell_type": "code",
      "execution_count": 23,
      "metadata": {
        "id": "NMcvm3E4-sl_",
        "outputId": "509dda32-5577-40b5-a4d1-201328733dcc",
        "colab": {
          "base_uri": "https://localhost:8080/"
        }
      },
      "outputs": [
        {
          "output_type": "stream",
          "name": "stdout",
          "text": [
            "Input the temperature in degrees fahrenheit: 32\n",
            "32 F == 0.0 C\n"
          ]
        }
      ],
      "source": [
        "\n",
        "num = int(input(\"Input the temperature in degrees fahrenheit: \"))\n",
        "def print_as_celsius(f):\n",
        "    c = ((f - 32.0) * (5.0/9.0))\n",
        "\n",
        "\n",
        "    print(f, 'F ==', c, 'C')\n",
        "\n",
        "\n",
        "\n",
        "print_as_celsius(num)\n"
      ]
    },
    {
      "cell_type": "markdown",
      "metadata": {
        "id": "zXC7orYI_T3E"
      },
      "source": [
        "## Testing your code\n",
        "The following code will use the function provided to print the Celsius temperature in Fahrenheit and the function you have written to print the temperature in Fahrenheit in Celsius. **Test your code using the code below and add at least two more function calls to test your code.**"
      ]
    },
    {
      "cell_type": "code",
      "execution_count": 24,
      "metadata": {
        "id": "fpq9XjRC_TJG",
        "outputId": "02907840-91a7-43e8-ea52-62467a76a63a",
        "colab": {
          "base_uri": "https://localhost:8080/"
        }
      },
      "outputs": [
        {
          "output_type": "stream",
          "name": "stdout",
          "text": [
            "37 C == 98.60000000000001 F\n",
            "98.6 F == 37.0 C\n",
            "\n",
            "0 C == 32.0 F\n",
            "32 F == 0.0 C\n"
          ]
        }
      ],
      "source": [
        "# This code will only work once you write your function above.\n",
        "# Check that the results are consistent.\n",
        "print_as_fahrenheit(37)\n",
        "print_as_celsius(98.6)\n",
        "\n",
        "print()\n",
        "\n",
        "print_as_fahrenheit(0)\n",
        "print_as_celsius(32)\n",
        "\n",
        "# TODO: Can you add two more calls to your function to make sure that it\n",
        "# works properly?"
      ]
    },
    {
      "cell_type": "markdown",
      "metadata": {
        "id": "FBvQb4tOArmq"
      },
      "source": [
        "## Converting from miles to meters\n",
        "In the following cell, **write a function called `miles_to_meters` that, given a number of miles, *returns* the number of meters**. Remember that one mile is 1.60934 kilometers and 1 kilometer is 1000 meters. "
      ]
    },
    {
      "cell_type": "code",
      "execution_count": 25,
      "metadata": {
        "id": "gLFgAtynBorm",
        "colab": {
          "base_uri": "https://localhost:8080/"
        },
        "outputId": "a83cecfc-2a9e-4024-ce81-165808102399"
      },
      "outputs": [
        {
          "name": "stdout",
          "output_type": "stream",
          "text": [
            "Enter a value for number of miles: 10\n"
          ]
        },
        {
          "output_type": "execute_result",
          "data": {
            "text/plain": [
              "16093.4"
            ]
          },
          "metadata": {},
          "execution_count": 25
        }
      ],
      "source": [
        "4\n",
        "nMiles = int(input(\"Enter a value for number of miles: \"))\n",
        "\n",
        "def miles_to_meters(mi):\n",
        "  me = ((mi * 1.60934) * (1000.0/1.0))\n",
        "  return me\n",
        "\n",
        "miles_to_meters(nMiles)"
      ]
    },
    {
      "cell_type": "markdown",
      "metadata": {
        "id": "ILJ5Cy29CC68"
      },
      "source": [
        "## Testing the mile conversion\n",
        "In the following code we test your function. **You can modify this code or add more code to it to test your function.**"
      ]
    },
    {
      "cell_type": "code",
      "execution_count": 26,
      "metadata": {
        "id": "jvIpU4DECTli",
        "colab": {
          "base_uri": "https://localhost:8080/"
        },
        "outputId": "1ff5f55d-8544-497f-a7be-4f0d8f3f1edd"
      },
      "outputs": [
        {
          "output_type": "stream",
          "name": "stdout",
          "text": [
            "5 miles == 8046.7 meters\n"
          ]
        }
      ],
      "source": [
        "# TODO: Code in this cell will not work until you have written miles_to_meters\n",
        "mile_test = 5\n",
        "meter_test = miles_to_meters(mile_test)\n",
        "print(mile_test , 'miles ==', meter_test, 'meters')\n",
        "\n",
        "\n",
        "# We use this code to test your function. Do not modify these.\n",
        "assert(int(meter_test) == 8046)\n",
        "assert(int(miles_to_meters(1)) == 1609)"
      ]
    },
    {
      "cell_type": "markdown",
      "metadata": {
        "id": "tUJEMX4ZC_ka"
      },
      "source": [
        "## Calculating the total bill\n",
        "In the following cell **write a function, `calculate_total`, that receives as parameters a `price` (represented by a float) and a `percent` (represented as an integer) and returns the total price, including a percent increase as given by the `percent` parameter.**"
      ]
    },
    {
      "cell_type": "code",
      "execution_count": 27,
      "metadata": {
        "id": "OvRHXmU5EcOw",
        "colab": {
          "base_uri": "https://localhost:8080/"
        },
        "outputId": "b5bc4766-4538-4629-ca14-e83e45b5a914"
      },
      "outputs": [
        {
          "output_type": "execute_result",
          "data": {
            "text/plain": [
              "10.5"
            ]
          },
          "metadata": {},
          "execution_count": 27
        }
      ],
      "source": [
        "\n",
        "\n",
        "def calculate_total(price, percent):\n",
        "  return price * (1 + (percent/100))\n",
        "\n",
        "calculate_total(10, 5)\n"
      ]
    },
    {
      "cell_type": "markdown",
      "metadata": {
        "id": "uP31YvtMDvtM"
      },
      "source": [
        "## Testing the calculate function\n",
        "**Complete the following testing code as specified in the comments.**"
      ]
    },
    {
      "cell_type": "code",
      "execution_count": 28,
      "metadata": {
        "id": "zn6Si5SZP-lg",
        "colab": {
          "base_uri": "https://localhost:8080/"
        },
        "outputId": "5dc01550-9d2f-4d89-f9c3-3d0d61400204"
      },
      "outputs": [
        {
          "output_type": "stream",
          "name": "stdout",
          "text": [
            "$91.7125\n"
          ]
        }
      ],
      "source": [
        "test_price = 79.75\n",
        "test_percent = 15\n",
        "\n",
        "test_result = round(calculate_total(test_price, test_percent), 4)\n",
        "print('$' + str(test_result))\n",
        "\n",
        "\n",
        "\n",
        "\n",
        "\n",
        "# We use this code to test your function. Do not modify these.\n",
        "assert(test_result == 91.7125)\n",
        "assert(calculate_total(30, 20) == 36.0)"
      ]
    },
    {
      "cell_type": "markdown",
      "metadata": {
        "id": "dKL0LYd-E4JB"
      },
      "source": [
        "### (Optional) Reflections\n",
        "Add a text cell below to answer the following questions:\n",
        "1. What do you feel more confident about after completing this lab?\n",
        "2. What do you feel you can use more help with after completing this lab?\n",
        "3. Do you have any constructive suggestions on how we can help you or improve this lab?"
      ]
    },
    {
      "cell_type": "markdown",
      "source": [
        "1. I feel confident creating functions in Python.\n",
        "2. I could use more help determining the deciphering betwen local and global variables.\n",
        "3. The lab has too many different tasks and it gets a bit overwhelming."
      ],
      "metadata": {
        "id": "YUnrbbBzjniX"
      }
    },
    {
      "cell_type": "markdown",
      "metadata": {
        "id": "gB1aHDpyFYey"
      },
      "source": [
        "### Save your work to GitHub\n",
        "Please save this notebook to your **lab repository** _LMU-CMSI-1010/lab-notebooks-YOURID_"
      ]
    }
  ],
  "metadata": {
    "kernelspec": {
      "display_name": "Python 3",
      "language": "python",
      "name": "python3"
    },
    "language_info": {
      "codemirror_mode": {
        "name": "ipython",
        "version": 3
      },
      "file_extension": ".py",
      "mimetype": "text/x-python",
      "name": "python",
      "nbconvert_exporter": "python",
      "pygments_lexer": "ipython3",
      "version": "3.8.5"
    },
    "colab": {
      "provenance": [],
      "include_colab_link": true
    }
  },
  "nbformat": 4,
  "nbformat_minor": 0
}