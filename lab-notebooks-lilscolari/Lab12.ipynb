{
  "cells": [
    {
      "cell_type": "markdown",
      "metadata": {
        "id": "jyQP-9Fni5Ue"
      },
      "source": [
        "<a href=\"https://colab.research.google.com/github/LMU-CMSI-1010/lab-notebooks-original/blob/main/Lab12.ipynb\" target=\"_parent\"><img src=\"https://colab.research.google.com/assets/colab-badge.svg\" alt=\"Open In Colab\"/></a>"
      ]
    },
    {
      "cell_type": "markdown",
      "metadata": {
        "id": "9aXfrLXg9seM"
      },
      "source": [
        "# Lab 12 Recursion Recursion\n",
        "This lab will give you the opportunity to write more recursive functions and to trace them.\n",
        "\n",
        "\n"
      ]
    },
    {
      "cell_type": "markdown",
      "metadata": {
        "id": "NeQK-bkp3AKI"
      },
      "source": [
        "## The Fibonacci Sequence\n",
        "A **sequence** is an ordered list of objects. In this case we will look at a sequence of numbers, the **Fibonacci Sequence**. We use variables such as f<sub>1</sub>, f<sub>2</sub>, f<sub>3</sub>, ... to mean the first number in the sequence, second number in the sequence, the third number in the sequence, and so forth.\n",
        "\n",
        "The **Fibonacci sequence** has the special relationship called a **recurrence** where we define a number in the sequence by the sum of the two numbers in the sequence before it. Let's look at the sequence now: <br>\n",
        "f<sub>1</sub> = 1, f<sub>2</sub> = 1, f<sub>3</sub> = 2, f<sub>4</sub> = 3, f<sub>5</sub> = 5, f<sub>6</sub> = 8, ...<br>\n",
        "Can you tell what f<sub>7</sub> should be? Let's look at the pattern. <br>\n",
        "We are given that f<sub>1</sub> is 1 and f<sub>2</sub> is 1. Those are the base cases. <br>\n",
        "Now look at the other terms: <br>\n",
        "f<sub>3</sub> = 2 = f<sub>1</sub> + f<sub>2</sub> = 1 + 1 <br>\n",
        "f<sub>4</sub> = 3 = f<sub>2</sub> + f<sub>3</sub> = 1 + 2 <br>\n",
        "f<sub>5</sub> = 5 = f<sub>3</sub> + f<sub>4</sub> = 2 + 3 <br>\n",
        "f<sub>6</sub> = 8 = f<sub>4</sub> + f<sub>5</sub> = 3 + 5 <br>\n",
        "If we continue this pattern for f<sub>7</sub> <br>\n",
        "f<sub>7</sub> = f<sub>5</sub> + f<sub>6</sub> = 5 + 8 = 13 <br>\n",
        "\n",
        "More generally, the n-th Fibonacci number equals the (n–2)-nd Fibonacci number plus the (n–1)-st Fibonacci number: <br>\n",
        "f<sub>n</sub> = f<sub>n–2</sub> + f<sub>n–1</sub> <br>\n",
        "\n",
        "**Do this:** In the following cell, you will **complete code to compute the n-th Fibonacci number**."
      ]
    },
    {
      "cell_type": "code",
      "execution_count": 5,
      "metadata": {
        "id": "9sggpWEB33fV"
      },
      "outputs": [],
      "source": [
        "def fibonacci(n):\n",
        "    # Handle the error case if n is not greater than 0\n",
        "    # This case does not need to be changed\n",
        "    if n <= 0:\n",
        "        print('n must be greater than 0')\n",
        "        return None\n",
        "\n",
        "    if n == 1 or n == 2:\n",
        "        return 1\n",
        "    \n",
        "    return fibonacci(n-2) + fibonacci(n-1)\n",
        "\n",
        "assert (fibonacci(7) == 13)\n",
        "assert (fibonacci(5) == 5)"
      ]
    },
    {
      "cell_type": "markdown",
      "metadata": {
        "id": "3NnTCLBI5nsb"
      },
      "source": [
        "### Tracing Fibonacci\n",
        "Now take a moment to see what is happening when you call your function `fibonacci(4)` in order to return the fourth Fibonacci number. \n",
        "\n",
        "**Do this:** Visualize the sequence of function calls made by your function when you call `fibonacci(4)` to return the fourth Fibonacci number either by hand or through PythonTutor. **Upload the resulting stack diagram to your lab notebooks repository and supply a plain language explanation of what is happening in the text box below:**\n",
        "\n"
      ]
    },
    {
      "cell_type": "markdown",
      "source": [
        "https://drive.google.com/file/d/1BeEe6_6tRQs6gQO_FdluTprKNDqteHTp/view?usp=sharing\n",
        "\n",
        "https://drive.google.com/file/d/1K4T--_TbHCUsnWSPOd24hEqk_mSXZVYJ/view?usp=sharing\n",
        "\n",
        "https://drive.google.com/file/d/1qWWvyDY0iuk09or2ojNkJf_UKXIWJ81O/view?usp=sharing\n"
      ],
      "metadata": {
        "id": "7w2o_HXL_dWY"
      }
    },
    {
      "cell_type": "markdown",
      "metadata": {
        "id": "AGLvvN4FQMcz"
      },
      "source": [
        "***\n",
        "**Do this:**\n",
        "> The function takes in an 'n' and first checks that it is greater than 0. Then, if 'n' is either 1 or 2, the function returns 1. These are the base cases. If the 'n' value passes those two cases, then it goes into the recursive calls. The recursive line executes fibonacci(n-2) first and gets a return value. Then it gets a value for fibonacci(n-1). These values are added together to get the value of 'n'. Now the function needs to find the value of fibonacci(n+1) so it does so by adding fibonacci(n-1) and fibonacci(n). This sequence occurs until the original function call is found.\n",
        "\n",
        "***"
      ]
    },
    {
      "cell_type": "markdown",
      "metadata": {
        "id": "VwQPNN6e6QI_"
      },
      "source": [
        "### Print a list backwards iteratively\n",
        "Given a list, **write an *iterative function* to print the list backwards one element at a time.**\n",
        "*Remember that iterative means to use a loop.*\n",
        "\n",
        "For example, if your function is given the list `[4, 7, 9, 2]`, your function should print\n",
        "```\n",
        "2 9 7 4\n",
        "```\n",
        "**Do this:** Complete the following function, `iterative_print_backwards`"
      ]
    },
    {
      "cell_type": "code",
      "execution_count": 2,
      "metadata": {
        "colab": {
          "base_uri": "https://localhost:8080/"
        },
        "id": "rz-jwUKp6cUJ",
        "outputId": "2ffd4261-2a06-4828-dfb1-f1dd9f580767"
      },
      "outputs": [
        {
          "output_type": "stream",
          "name": "stdout",
          "text": [
            "2\n",
            "\n",
            "9\n",
            "\n",
            "7\n",
            "\n",
            "4\n",
            "\n",
            "[2, 9, 7, 4]\n",
            "\n",
            "4\n",
            "\n",
            "3\n",
            "\n",
            "2\n",
            "\n",
            "1\n",
            "\n",
            "[4, 3, 2, 1]\n",
            "\n",
            "8\n",
            "\n",
            "7\n",
            "\n",
            "6\n",
            "\n",
            "5\n",
            "\n",
            "[8, 7, 6, 5]\n",
            "\n",
            "2\n",
            "\n",
            "7\n",
            "\n",
            "-6\n",
            "\n",
            "-3\n",
            "\n",
            "[2, 7, -6, -3]\n",
            "\n"
          ]
        }
      ],
      "source": [
        "def iterative_print_backwards(test):\n",
        "\n",
        "    new_list = []\n",
        "\n",
        "    for num in range(-1, -1 * (len(test)) - 1, -1):\n",
        "        print(test[num])\n",
        "        print()\n",
        "        new_list.append(test[num])\n",
        "\n",
        "    print(new_list)\n",
        "    print()\n",
        "\n",
        "iterative_print_backwards([4, 7, 9, 2])\n",
        "iterative_print_backwards([1, 2, 3, 4])\n",
        "iterative_print_backwards([5, 6, 7, 8])\n",
        "iterative_print_backwards([-3, -6, 7, 2])"
      ]
    },
    {
      "cell_type": "markdown",
      "metadata": {
        "id": "90Zthmy_S6AS"
      },
      "source": [
        "### Print a list backwards recursively\n",
        "Given a list, **write a *recursive function* to print the list backwards one element at a time.**\n",
        "*Remember that **recursive** means that the function must call itself.*\n",
        "\n",
        "For example, if your function is given the list, `[4, 7, 9, 2]`, your function should print\n",
        "```\n",
        "2 9 7 4\n",
        "```\n",
        "**Do this:** Complete the following function, `recursive_print_backwards`"
      ]
    },
    {
      "cell_type": "code",
      "execution_count": 4,
      "metadata": {
        "colab": {
          "base_uri": "https://localhost:8080/"
        },
        "id": "ew5_E0TaTJw3",
        "outputId": "62ecb06d-c1d8-4bab-d3a1-39b1fcb058d8"
      },
      "outputs": [
        {
          "output_type": "stream",
          "name": "stdout",
          "text": [
            "2 9 7 4\n",
            "\n",
            "4 3 2 1\n",
            "\n",
            "8 7 6 5\n",
            "\n",
            "2 7 -6 -3\n",
            "\n"
          ]
        }
      ],
      "source": [
        "def recursive_print_backwards(test):\n",
        "    length = len(test)\n",
        "    if length == 0:\n",
        "        return\n",
        "\n",
        "    if length == 1:\n",
        "        print(test[0])\n",
        "        print()\n",
        "        return test[0]\n",
        "\n",
        "    # Recursive case\n",
        "    # print the last element (we did this for you already)\n",
        "    print(test[-1], end=' ')\n",
        "\n",
        "    recursive_print_backwards(test[0:length-1])\n",
        "\n",
        "recursive_print_backwards([4, 7, 9, 2])\n",
        "recursive_print_backwards([1, 2, 3, 4])\n",
        "recursive_print_backwards([5, 6, 7, 8])\n",
        "recursive_print_backwards([-3, -6, 7, 2])"
      ]
    },
    {
      "cell_type": "markdown",
      "metadata": {
        "id": "0PA2HcBPQDrf"
      },
      "source": [
        "**Do this:**  Visualize the sequence of function calls made `recursive_print_backwards` either by hand or through PythonTutor. Upload the resulting stack diagram to your lab notebooks repository and supply a plain language explanation of what is happening in the text box below:"
      ]
    },
    {
      "cell_type": "markdown",
      "source": [
        "https://drive.google.com/file/d/1Q60k959MuSM8akzZaz9tUIsz1E8nRIYj/view?usp=sharing\n"
      ],
      "metadata": {
        "id": "ogf6OFHFG5Y3"
      }
    },
    {
      "cell_type": "markdown",
      "metadata": {
        "id": "lPupPwlKQdbv"
      },
      "source": [
        "***\n",
        "\n",
        "> This code checks for the base case of length == 0 and length == 1.\n",
        "If the length is equal to 0, there are no items in the inputted list so the function can stop. Also, if the length is equal to 1, the function does not have to return the string backwards as it is the same forward and backwards. The recursive case occurs when the length of the string is greater than 1. The single function call calls the function with a new list that removed the final element of the list. Each final element of the inputted list is printed before the recursion so the output is the inputted list printed backwards.\n",
        "\n",
        "***"
      ]
    },
    {
      "cell_type": "markdown",
      "metadata": {
        "id": "dKL0LYd-E4JB"
      },
      "source": [
        "### (Optional) Reflections\n",
        "Add a text cell below to answer the following questions:\n",
        "1. What do you feel more confident about after completing this lab?\n",
        "2. What do you feel you can use more help with after completing this lab?\n",
        "3. Do you have any constructive suggestions on how we can help you or improve this lab?"
      ]
    },
    {
      "cell_type": "markdown",
      "source": [
        "1. I feel confident with writing code in loops and recursive cases. I still need more practice with recursion but I am getting better.\n",
        "2. I need help inputting phoots into Colab. It is confusing putting photos from Google Drive into Google Colab. I could also use more help understanding stack diagrams especially for recursive cases. They always confuse me.\n",
        "3. I know what he fibonacci sequence is but the first question was very confusing. I was unsure what the question wanted me to do."
      ],
      "metadata": {
        "id": "NLzGYUth7OXG"
      }
    },
    {
      "cell_type": "markdown",
      "metadata": {
        "id": "gB1aHDpyFYey"
      },
      "source": [
        "### Save your work to GitHub\n",
        "Please save this notebook to your lab repository."
      ]
    }
  ],
  "metadata": {
    "kernelspec": {
      "display_name": "Python 3",
      "language": "python",
      "name": "python3"
    },
    "language_info": {
      "codemirror_mode": {
        "name": "ipython",
        "version": 3
      },
      "file_extension": ".py",
      "mimetype": "text/x-python",
      "name": "python",
      "nbconvert_exporter": "python",
      "pygments_lexer": "ipython3",
      "version": "3.8.5"
    },
    "colab": {
      "provenance": []
    }
  },
  "nbformat": 4,
  "nbformat_minor": 0
}