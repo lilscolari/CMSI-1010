{
  "cells": [
    {
      "cell_type": "markdown",
      "metadata": {
        "id": "view-in-github",
        "colab_type": "text"
      },
      "source": [
        "<a href=\"https://colab.research.google.com/github/LMU-CMSI-1010/lab-notebooks-lilscolari/blob/main/Copy_of_Lab10.ipynb\" target=\"_parent\"><img src=\"https://colab.research.google.com/assets/colab-badge.svg\" alt=\"Open In Colab\"/></a>"
      ]
    },
    {
      "cell_type": "markdown",
      "metadata": {
        "id": "WIFu_BIiWkKj"
      },
      "source": [
        "<a href=\"https://colab.research.google.com/github/LMU-CMSI-1010/lab-notebooks-original/blob/main/Lab10.ipynb\" target=\"_parent\"><img src=\"https://colab.research.google.com/assets/colab-badge.svg\" alt=\"Open In Colab\"/></a>"
      ]
    },
    {
      "cell_type": "markdown",
      "metadata": {
        "id": "9aXfrLXg9seM"
      },
      "source": [
        "# Lab 10 Introduction to Recursion\n",
        "This lab inroduces you to recursion by coding functions to test if a string is a **palindrome** or not and tracing the behavior. We will discuss recursion more formally later this week, but this is a way to motivate what is happening with a concrete example.\n",
        "\n",
        "*Remember:* A **palindrome** is a string that is the same forwards or backwards. For example, *noon, level, the empty string, and any single character* are all palindromes.\n",
        "\n"
      ]
    },
    {
      "cell_type": "markdown",
      "metadata": {
        "id": "NeQK-bkp3AKI"
      },
      "source": [
        "## Quick recap: One-line function\n",
        "\n",
        "Recall that several lectures ago we were able to code a one-line function to check if a string was a palindrome using slicing.\n",
        "\n",
        "This function is in the following cell.\n"
      ]
    },
    {
      "cell_type": "code",
      "execution_count": 1,
      "metadata": {
        "id": "9sggpWEB33fV",
        "outputId": "533aa5b3-d9ed-445f-8271-46c1ace3981d",
        "colab": {
          "base_uri": "https://localhost:8080/"
        }
      },
      "outputs": [
        {
          "output_type": "stream",
          "name": "stdout",
          "text": [
            "True\n",
            "True\n",
            "False\n",
            "True\n",
            "True\n",
            "False\n"
          ]
        }
      ],
      "source": [
        "# quick_palidrome: Given a string, quick_palindrome\n",
        "# returns True if the string is a palindrome and False otherwise\n",
        "def quick_palindrome(test):\n",
        "    # Remember test[::-1] returns a string that is a copy of test reversed\n",
        "    return (test == test[::-1])\n",
        "\n",
        "\n",
        "print(quick_palindrome('')) # Should return True\n",
        "print(quick_palindrome('a')) # Should return True\n",
        "print(quick_palindrome('bubble')) # Should return False\n",
        "print(quick_palindrome('noon')) # Should return True\n",
        "print(quick_palindrome('tenet')) # Should return True\n",
        "print(quick_palindrome('treat')) # Should return False"
      ]
    },
    {
      "cell_type": "markdown",
      "metadata": {
        "id": "3NnTCLBI5nsb"
      },
      "source": [
        "### Your turn with iteration\n",
        "\n",
        "In the following cell, **complete the function `iterative_palindrome`.** You should use a `for` or `while` loop to complete this implementation.\n",
        "**Have your function print out what it is comparing on each iteration**, so that you can check its behavior. **Trace the behavior of your function on the strings, noon, tenet, and treat.** Can you trace with what you are printing and using a stack diagram?"
      ]
    },
    {
      "cell_type": "code",
      "execution_count": 2,
      "metadata": {
        "id": "B0q5svPu53OF"
      },
      "outputs": [],
      "source": [
        "def iterative_palindrome(test):\n",
        "    length = len(test)\n",
        "    if length <= 1:\n",
        "        return True\n",
        "\n",
        "\n",
        "    new_str = ''\n",
        "    for letter in test:\n",
        "        new_str = test[test.index(letter):test.index(letter)+1] + new_str\n",
        "\n",
        "    if new_str == test:\n",
        "        return True\n",
        "    else:\n",
        "        return False\n",
        "\n",
        "\n",
        "assert(iterative_palindrome('') == True)\n",
        "assert(iterative_palindrome('a') == True)\n",
        "assert(iterative_palindrome('bubble') == False)\n",
        "assert(iterative_palindrome('noon') == True)\n",
        "assert(iterative_palindrome('tenet') == True)\n",
        "assert(iterative_palindrome('treat') == False)\n",
        "    "
      ]
    },
    {
      "cell_type": "markdown",
      "metadata": {
        "id": "PLuBEYNK0Q6M"
      },
      "source": [
        "### Review: Functions Calling Functions\n",
        "Recall that when functions call other functions, they can be thought of as “stacking” up because when the called function returns, it goes back to the function that called it. To refresh your memory, here is a program with a few functions that call each other. Make sure you understand how program execution proceeds here:"
      ]
    },
    {
      "cell_type": "code",
      "execution_count": 3,
      "metadata": {
        "id": "RSx_xL0y0q2B",
        "outputId": "aabff4a9-99e7-44f3-9ae2-9f16748a49fa",
        "colab": {
          "base_uri": "https://localhost:8080/"
        }
      },
      "outputs": [
        {
          "output_type": "stream",
          "name": "stdout",
          "text": [
            "Say yes or no, your way: yea\n",
            "True\n"
          ]
        }
      ],
      "source": [
        "def standardize_response(response):\n",
        "    return response.strip().lower()\n",
        "\n",
        "\n",
        "def flexible_yes_or_no(response):\n",
        "    \"\"\"Recognizes many variations of yes or no.\n",
        "       Will return True if it recognized a yes and False if it recognized a no.\n",
        "       It will return None of neither one is recognized.\"\"\"\n",
        "    yes = ['yes', 'y', 'yup', 'yeah', 'yea', 'uh huh', 'uh-huh', 'sure', 'ok']\n",
        "    no = ['no', 'n', 'nope', 'nah', 'noo', 'nooo', 'uh uh', 'uh-uh']\n",
        "\n",
        "    standardized_response = standardize_response(response)\n",
        "    if standardized_response in yes:\n",
        "        return True\n",
        "    elif standardized_response in no:\n",
        "        return False\n",
        "    else:\n",
        "        return None\n",
        "\n",
        "\n",
        "yes_or_no = input('Say yes or no, your way: ')\n",
        "print(flexible_yes_or_no(yes_or_no))"
      ]
    },
    {
      "cell_type": "markdown",
      "metadata": {
        "id": "RrnFW15w3r6G"
      },
      "source": [
        "See the [stack in action via PythonTutor](https://pythontutor.com/visualize.html#code=def%20standardize_response%28response%29%3A%0A%20%20%20%20return%20response.strip%28%29.lower%28%29%0A%0A%0Adef%20flexible_yes_or_no%28response%29%3A%0A%20%20%20%20%22%22%22Recognizes%20many%20variations%20of%20yes%20or%20no.%0A%20%20%20%20%20%20%20Will%20return%20True%20if%20it%20recognized%20a%20yes%20and%20False%20if%20it%20recognized%20a%20no.%0A%20%20%20%20%20%20%20It%20will%20return%20None%20of%20neither%20one%20is%20recognized.%22%22%22%0A%20%20%20%20yes%20%3D%20%5B'yes',%20'y',%20'yup',%20'yeah',%20'yea',%20'uh%20huh',%20'uh-huh',%20'sure',%20'ok'%5D%0A%20%20%20%20no%20%3D%20%5B'no',%20'n',%20'nope',%20'nah',%20'noo',%20'nooo',%20'uh%20uh',%20'uh-uh'%5D%0A%0A%20%20%20%20standardized_response%20%3D%20standardize_response%28response%29%0A%20%20%20%20if%20standardized_response%20in%20yes%3A%0A%20%20%20%20%20%20%20%20return%20True%0A%20%20%20%20elif%20standardized_response%20in%20no%3A%0A%20%20%20%20%20%20%20%20return%20False%0A%20%20%20%20else%3A%0A%20%20%20%20%20%20%20%20return%20None%0A%0A%0Ayes_or_no%20%3D%20input%28'Say%20yes%20or%20no,%20your%20way%3A%20'%29%0Aprint%28flexible_yes_or_no%28yes_or_no%29%29&cumulative=false&heapPrimitives=nevernest&mode=edit&origin=opt-frontend.js&py=3&rawInputLstJSON=%5B%5D&textReferences=false)."
      ]
    },
    {
      "cell_type": "markdown",
      "metadata": {
        "id": "VwQPNN6e6QI_"
      },
      "source": [
        "### Recursive Palindrome Function Tracing\n",
        "\n",
        "A **recursive function** is a function that calls itself. Below, we have given you a recursive implementation of the `palindrome` function. Notice that we have a base case: when we are given an empty string or a single character, the function can return immediately without calling itself. Notice also the recursive case: this is when the function calls itself on a smaller string. Can you figure out what the smaller string should be? **Trace the behavior of your function on the strings \"noon\", \"tenet\", and \"treat\".** Can you trace these functions with what is being printed and using stack diagrams? *Remember that the stack diagrams will create a new box for each function call.*"
      ]
    },
    {
      "cell_type": "code",
      "execution_count": 4,
      "metadata": {
        "id": "rz-jwUKp6cUJ",
        "outputId": "77ff5c85-cbe1-4cf5-a4d0-5c8a2449086d",
        "colab": {
          "base_uri": "https://localhost:8080/"
        }
      },
      "outputs": [
        {
          "output_type": "stream",
          "name": "stdout",
          "text": [
            "Current input: \n",
            "Base case: length 0 or 1\n",
            "True\n",
            "\n",
            "Current input: a\n",
            "Base case: length 0 or 1\n",
            "True\n",
            "\n",
            "Current input: bubble\n",
            "Not palindrome: first and last chars differ\n",
            "False\n",
            "\n",
            "Current input: noon\n",
            "ok so far\n",
            "Current input: oo\n",
            "ok so far\n",
            "Current input: \n",
            "Base case: length 0 or 1\n",
            "True\n",
            "\n",
            "Current input: tenet\n",
            "ok so far\n",
            "Current input: ene\n",
            "ok so far\n",
            "Current input: n\n",
            "Base case: length 0 or 1\n",
            "True\n",
            "\n",
            "Current input: treat\n",
            "ok so far\n",
            "Current input: rea\n",
            "Not palindrome: first and last chars differ\n",
            "False\n",
            "\n"
          ]
        }
      ],
      "source": [
        "# palidrome: Given a string, palindrome returns True\n",
        "# if the string is a palindrome and False otherwise\n",
        "# This is a recursive implementation because palindrome calls\n",
        "# itself.\n",
        "def palindrome(test):\n",
        "    print('Current input:', test)\n",
        "  \n",
        "    # Base case for empty string or single character\n",
        "    if len(test) <= 1:\n",
        "        print('Base case: length 0 or 1')\n",
        "        return True\n",
        "\n",
        "    # Base case for when the first and last character are\n",
        "    # different so we know it cannot be a palindrome\n",
        "    elif test[0] != test[-1]:\n",
        "        print('Not palindrome: first and last chars differ')\n",
        "        return False\n",
        "  \n",
        "    # Recursive case: we know valid palindrome so far so \n",
        "    # we need to look at the rest of the substring without\n",
        "    # the first and last character\n",
        "    print('ok so far')\n",
        "  \n",
        "    # This recursive call passes a substring of test from the\n",
        "    # second character at index 1 to right before the last character\n",
        "    # at index -1\n",
        "    return palindrome(test[1:-1])\n",
        "\n",
        "print(palindrome('')) # Should return True\n",
        "print()\n",
        "print(palindrome('a')) # Should return True\n",
        "print()\n",
        "print(palindrome('bubble')) # Should return False\n",
        "print()\n",
        "print(palindrome('noon')) # Should return True\n",
        "print()\n",
        "print(palindrome('tenet')) # Should return True\n",
        "print()\n",
        "print(palindrome('treat')) # Should return False\n",
        "print()"
      ]
    },
    {
      "cell_type": "markdown",
      "metadata": {
        "id": "0PA2HcBPQDrf"
      },
      "source": [
        "**Do this:** Visualize the sequence of function calls made by `palindrome('engage')` either by hand or through PythonTutor. Upload the resulting stack diagram image to your notebook by uploading your image to your google drive, and make sure it's a public folder and get the shareable link by right-clicking on the picture and choose 'Get a sharable link'. You just need the id of the image so copy that (the id is between /d/ and /view). **There is a text cell below but it is invisible, you have to click below to make it show. Now paste the ID in the link below where it says \"PASTE ID HERE.\"**"
      ]
    },
    {
      "cell_type": "markdown",
      "metadata": {
        "id": "IWsmi94NWkKt"
      },
      "source": [
        "***\n",
        "![](https://drive.google.com/uc?export=view&id=1_hELxY3BCDXKae6vkPEVudQCKWAfzTBn)\n",
        "***"
      ]
    },
    {
      "cell_type": "markdown",
      "metadata": {
        "id": "z5dJSnu-WkKt"
      },
      "source": [
        "**And Do this:**  Also supply a plain language explanation of what is happening in the text box below:"
      ]
    },
    {
      "cell_type": "markdown",
      "metadata": {
        "id": "lPupPwlKQdbv"
      },
      "source": [
        "***\n",
        "\n",
        "> The function palindrome originally assigned the value of 'engage' to its parameter, test. After checking that the length of test is greater than one, the function tests to ensure that the first and last char of the string are the same. If they are different, the function returns False and no recursion occurs. If they are the same, the function calls recursion again assigning 'engage' without the first and last chars to test. The function runs the same way with the new value. In the case of the word 'engage', the length of the word is greater than one and the first and last chars are the same so the function calls itself again using the value 'ngag'. For this time, the first and last chars are different so the function returns False, stating how the original word, 'engage', is not a palindrome.\n",
        "\n",
        "***"
      ]
    },
    {
      "cell_type": "markdown",
      "metadata": {
        "id": "dKL0LYd-E4JB"
      },
      "source": [
        "### (Optional) Reflections\n",
        "Add a text cell below to answer the following questions:\n",
        "1. What do you feel more confident about after completing this lab?\n",
        "2. What do you feel you can use more help with after completing this lab?\n",
        "3. Do you have any constructive suggestions on how we can help you or improve this lab?"
      ]
    },
    {
      "cell_type": "markdown",
      "source": [
        "1. I feel confident with using recursion in my code. It is a difficult concept to grasp but I am getting better with it.\n",
        "2. I could use more help with drawing stack diagrams. I know that drawing stack diagrams will be a useful tool in the future. I do not understand how to draw them and need help learning.\n",
        "3. The lab was pretty short and enjoyable to complete. The lab did not take long. The only confusing part was determining which parts of the lab were questions assigned for us to answer."
      ],
      "metadata": {
        "id": "ZyPbdMAQJktj"
      }
    },
    {
      "cell_type": "markdown",
      "metadata": {
        "id": "gB1aHDpyFYey"
      },
      "source": [
        "### Save your work to GitHub\n",
        "Please save this notebook to your lab repository."
      ]
    }
  ],
  "metadata": {
    "kernelspec": {
      "display_name": "Python 3",
      "language": "python",
      "name": "python3"
    },
    "language_info": {
      "codemirror_mode": {
        "name": "ipython",
        "version": 3
      },
      "file_extension": ".py",
      "mimetype": "text/x-python",
      "name": "python",
      "nbconvert_exporter": "python",
      "pygments_lexer": "ipython3",
      "version": "3.8.5"
    },
    "colab": {
      "provenance": [],
      "include_colab_link": true
    }
  },
  "nbformat": 4,
  "nbformat_minor": 0
}