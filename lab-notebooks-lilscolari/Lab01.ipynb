{
  "cells": [
    {
      "cell_type": "markdown",
      "metadata": {
        "id": "QhtwGcY6trJk"
      },
      "source": [
        "<a href=\"https://colab.research.google.com/github/LMU-CMSI-1010/lab-notebooks-original/blob/main/Lab01.ipynb\" target=\"_parent\"><img src=\"https://colab.research.google.com/assets/colab-badge.svg\" alt=\"Open In Colab\"/></a>"
      ]
    },
    {
      "cell_type": "markdown",
      "metadata": {
        "id": "9aXfrLXg9seM"
      },
      "source": [
        "# Lab 01 Taking Orders\n",
        "***\n",
        "In this lab you will practice using strings, variables, printing, and getting input from a user.\n",
        "\n",
        "## Greeting your customer\n",
        "In the following cell, print a statement to greet your customers and ask their names. Save their names in a variable, so you can use it later.\n",
        "\n"
      ]
    },
    {
      "cell_type": "code",
      "execution_count": 2,
      "metadata": {
        "id": "BvyaiHRdlsXj",
        "colab": {
          "base_uri": "https://localhost:8080/"
        },
        "outputId": "dd5a2e8c-4e73-4e23-9ced-3a9d4e3d8d49"
      },
      "outputs": [
        {
          "name": "stdout",
          "output_type": "stream",
          "text": [
            "Welcome, what is your name?\n",
            "Welcome, what is your name? Cameron\n"
          ]
        }
      ],
      "source": [
        "# Greet your customer and ask for their name\n",
        "print('Welcome, what is your name?')\n",
        "# Save their name in a variable\n",
        "name = input('Welcome, what is your name? ')\n"
      ]
    },
    {
      "cell_type": "markdown",
      "metadata": {
        "id": "LCUmYgcomFGg"
      },
      "source": [
        "## Ask for their order by name\n",
        "In the following cell repeat the customer’s name and ask for their drink and meal order. Remember to save the drink as a variable and also save the meal as another variable.\n"
      ]
    },
    {
      "cell_type": "code",
      "execution_count": 4,
      "metadata": {
        "id": "5DUZ_9hPmxCi",
        "colab": {
          "base_uri": "https://localhost:8080/"
        },
        "outputId": "3e20426b-9e31-459f-eb23-1db0f6cee94b"
      },
      "outputs": [
        {
          "name": "stdout",
          "output_type": "stream",
          "text": [
            "Cameron, what would you like to drink? Water\n",
            "Cameron, what would you like to eat? Hamburger\n"
          ]
        }
      ],
      "source": [
        "# Use the customer's name to ask for drink order\n",
        "drink = input(name + ', what would you like to drink? ')\n",
        "\n",
        "\n",
        "# Use the customer's name to ask for meal order\n",
        "meal = input(name + ', what would you like to eat? ')\n",
        "\n",
        "\n",
        "\n"
      ]
    },
    {
      "cell_type": "markdown",
      "metadata": {
        "id": "4dODrt9WnO-v"
      },
      "source": [
        "## Repeat their order \n",
        "In the following cell, thank your customer by name and repeat their order to them. Make sure you use the correct variables when you repeat it."
      ]
    },
    {
      "cell_type": "code",
      "execution_count": 7,
      "metadata": {
        "id": "ncutxJBKniMh",
        "colab": {
          "base_uri": "https://localhost:8080/"
        },
        "outputId": "6a508c96-eec8-46fe-89ca-9562f382f94f"
      },
      "outputs": [
        {
          "output_type": "stream",
          "name": "stdout",
          "text": [
            "Cameron, thank you for ordering from us!\n",
            "Please let me repeat your order for you.\n",
            "You have ordered a water to drink, and a hamburger to eat. Thank you again!\n"
          ]
        }
      ],
      "source": [
        "# Change this code to make sure that you are using the correct customer name, drink, and meal.\n",
        "print(name + ', thank you for ordering from us!')\n",
        "# e.g. Thank you, Lion.\n",
        "print('Please let me repeat your order for you.')\n",
        "print('You have ordered a', drink.lower(), 'to drink, and a', meal.lower(), 'to eat. Thank you again!')\n",
        "# e.g. I see that you have ordered a soda and pizza."
      ]
    },
    {
      "cell_type": "markdown",
      "metadata": {
        "id": "O8oF7J1OmCnQ"
      },
      "source": [
        "## Challenge—figuring out your bill!\n",
        "Since we don’t have a menu in this lab notebook, we don’t know what our meals should cost. We’ll trust the restaurant to tell you how much your total bill is and the percentage of your original bill that will comprise the tip. Tax is always 10% of the original bill. It randomly chooses your total bill and tip percentage for you. Can you use this information to find out what your original bill costs before the tip?"
      ]
    },
    {
      "cell_type": "code",
      "execution_count": null,
      "metadata": {
        "id": "mCuyN8JZqPhI"
      },
      "outputs": [],
      "source": [
        "# The following code is given to you and does not need to be modified\n",
        "import random\n",
        "\n",
        "# We select a random float between 10 and 30 for the total bill\n",
        "total_bill = round(random.uniform(10, 30), 2)\n",
        "\n",
        "# We select a random integer tip percentage amount between 10 and 25 \n",
        "tip = random.randint(10, 25)\n",
        "print('Thank you. Your total bill is $' + str(total_bill) + '. Your tip percentage is ' + str(tip) +'%. Tax is 10%.')"
      ]
    },
    {
      "cell_type": "markdown",
      "metadata": {
        "id": "OIWaikgzrzdR"
      },
      "source": [
        "Edit the following cell to figure out what your original bill was. We print it, but right now we always print the same value for the original bill"
      ]
    },
    {
      "cell_type": "code",
      "execution_count": 20,
      "metadata": {
        "id": "TM3VQOMVtiU4",
        "colab": {
          "base_uri": "https://localhost:8080/"
        },
        "outputId": "4a94357a-0aa0-435f-f20e-49913c6c1d37"
      },
      "outputs": [
        {
          "output_type": "stream",
          "name": "stdout",
          "text": [
            "Thank you. Your total bill is $28.16. Your tip percentage is 20%. Tax is 10%.\n",
            "Your original bill is $20.275199999999998.\n"
          ]
        }
      ],
      "source": [
        "# Change this code below to figure out your original bill. Right now, it is always 10.\n",
        "import random\n",
        "\n",
        "# given code:\n",
        "original_bill = 10\n",
        "total_bill = round(random.uniform(10, 30), 2)\n",
        "tip = random.randint(10, 25)\n",
        "print('Thank you. Your total bill is $' + str(total_bill) + '. Your tip percentage is ' + str(tip) +'%. Tax is 10%.')\n",
        "\n",
        "\n",
        "num = total_bill * (tip/100)\n",
        "\n",
        "num1 = total_bill - num\n",
        "\n",
        "original_bill = num1 * .9\n",
        "\n",
        "# No need to change below\n",
        "print('Your original bill is $' + str(original_bill) + '.')"
      ]
    },
    {
      "cell_type": "markdown",
      "metadata": {
        "id": "dKL0LYd-E4JB"
      },
      "source": [
        "### (optional) Reflections\n",
        "Add a text cell below to answer the following questions:\n",
        "1. What do you feel more confident about after completing this lab?\n",
        "2. What do you feel you can use more help with after completing this lab?\n",
        "3. Do you have any constructive suggestions on how we can help you or improve this lab?"
      ]
    },
    {
      "cell_type": "markdown",
      "source": [
        "1. I feel more confident writing code that can take inputs.\n",
        "2. I can use help with helping evaluate which value belongs to what variable.\n",
        "3. I have no constructive suggestions."
      ],
      "metadata": {
        "id": "vpXIORhl0T8a"
      }
    },
    {
      "cell_type": "markdown",
      "metadata": {
        "id": "gB1aHDpyFYey"
      },
      "source": [
        "### Save your work to GitHub\n",
        "Please save this notebook to your lab repository."
      ]
    },
    {
      "cell_type": "code",
      "execution_count": null,
      "metadata": {
        "id": "-9f9GEMftrJw"
      },
      "outputs": [],
      "source": []
    }
  ],
  "metadata": {
    "kernelspec": {
      "display_name": "Python 3",
      "language": "python",
      "name": "python3"
    },
    "language_info": {
      "codemirror_mode": {
        "name": "ipython",
        "version": 3
      },
      "file_extension": ".py",
      "mimetype": "text/x-python",
      "name": "python",
      "nbconvert_exporter": "python",
      "pygments_lexer": "ipython3",
      "version": "3.8.5"
    },
    "colab": {
      "provenance": []
    }
  },
  "nbformat": 4,
  "nbformat_minor": 0
}