{
  "cells": [
    {
      "cell_type": "markdown",
      "metadata": {
        "id": "hyxAFIibcSWR"
      },
      "source": [
        "<a href=\"https://colab.research.google.com/github/LMU-CMSI-1010/lab-notebooks-original/blob/main/Lab05.ipynb\" target=\"_parent\"><img src=\"https://colab.research.google.com/assets/colab-badge.svg\" alt=\"Open In Colab\"/></a>"
      ]
    },
    {
      "cell_type": "markdown",
      "metadata": {
        "id": "9aXfrLXg9seM"
      },
      "source": [
        "# Lab 05 Walk with Purpose\n",
        "In this lab you will practice using for loops and while loops to simulate taking a walk. However, this time you will have a goal to start in the center of the room and reach either wall. The number and direction of steps will be determined by random integers—a common approach for programs that seek to simulate some behaviors or systems.\n",
        "\n",
        "## Flipping a coin and getting steps\n",
        "\n",
        "As for Lab 04, we provide you with the same code for simulating flipping a coin in the following cell. We also provide you with code to get a random number of steps to take. **Please remember to run this cell, so that you may call the function to flip a coin and the function to get a random number of steps.**\n",
        "\n"
      ]
    },
    {
      "cell_type": "code",
      "execution_count": 1,
      "metadata": {
        "id": "Rt0kFDWS9RJU"
      },
      "outputs": [],
      "source": [
        "# The random module is what let's us make calls to get random integers\n",
        "import random\n",
        "\n",
        "# This function simulates flipping a coin. It returns the string H for heads\n",
        "# and T for tails\n",
        "def flip_coin():\n",
        "    coin = ''\n",
        "    flip = random.randint(1, 10)\n",
        "    if flip <= 5:\n",
        "      coin = 'H'\n",
        "    else:\n",
        "      coin = 'T'\n",
        "    return coin\n",
        "\n",
        "# This function simulates taking a number of steps. It will return an integer\n",
        "# number of steps to take\n",
        "def get_steps():\n",
        "    steps = random.randint(1, 50)\n",
        "    return steps"
      ]
    },
    {
      "cell_type": "markdown",
      "metadata": {
        "id": "y2c-tRWA91fr"
      },
      "source": [
        "## Walking from the center of a room\n",
        "Now imagine that you or a robot if you prefer are placed in the center of the room. The following cell gives the variables to keep track of your position in that room. The room has a width of 100 ft and you (or your robot) can walk horizontally across the room to the left or the right. The leftmost wall has position 0 and the rightmost wall has position 100. **Please run this cell so you can use these variables.** This cell is the same as in Lab 04.\n"
      ]
    },
    {
      "cell_type": "code",
      "execution_count": 2,
      "metadata": {
        "id": "NMcvm3E4-sl_"
      },
      "outputs": [],
      "source": [
        "# Use this variable to keep track of your position\n",
        "position = 50\n",
        "left_wall = 0\n",
        "right_wall = 100"
      ]
    },
    {
      "cell_type": "markdown",
      "metadata": {
        "id": "zXC7orYI_T3E"
      },
      "source": [
        "## A few chances to the reach a wall\n",
        "In the following cell, **use a for loop to give yourself (or your robot) 5 chances to reach the wall.** Each chance will involve flipping a coin and taking a random number of steps in the correct direction based on the coin flip. If you reach the wall after your 5 chances, you win!"
      ]
    },
    {
      "cell_type": "code",
      "execution_count": 3,
      "metadata": {
        "id": "fpq9XjRC_TJG",
        "outputId": "d7b77d31-695b-4be8-8c1a-5a7597394552",
        "colab": {
          "base_uri": "https://localhost:8080/"
        }
      },
      "outputs": [
        {
          "output_type": "stream",
          "name": "stdout",
          "text": [
            "H 8\n",
            "T 13\n",
            "T 8\n",
            "T 39\n",
            "H 10\n",
            "You are at position 8 in the room.\n"
          ]
        }
      ],
      "source": [
        "for int in range(0, 5, 1):\n",
        "    coin = flip_coin()\n",
        "    steps = get_steps()\n",
        "    print(coin, steps)\n",
        "    if coin == 'H':\n",
        "        position += steps\n",
        "    else:\n",
        "        position -= steps\n",
        "      \n",
        "\n",
        "# If you've reached either wall: you win\n",
        "if position <= left_wall or position >= right_wall:\n",
        "    print('You win!')\n",
        "else:\n",
        "    print('You are at position', position, 'in the room.')"
      ]
    },
    {
      "cell_type": "markdown",
      "metadata": {
        "id": "FBvQb4tOArmq"
      },
      "source": [
        "## Keep trying until you reach a wall\n",
        "\n",
        "In the following cell, **use a `while` loop to keep on taking steps towards a wall until you reach the left wall or right wall.** To help you reach a wall more quickly, you can double the number of steps. First get a random number of steps to take. Then you will flip your first coin to choose a direction. Then you will flip a second coin. If it is the same toss as the first coin (such H-H or T-T), you can double your number of steps in the given direction. **You also need to keep track of how many chances (iterations) it takes you to reach a wall.**"
      ]
    },
    {
      "cell_type": "code",
      "execution_count": 4,
      "metadata": {
        "id": "gLFgAtynBorm",
        "outputId": "a82db1ee-cd52-46f3-dcf2-bee9a41cc074",
        "colab": {
          "base_uri": "https://localhost:8080/"
        }
      },
      "outputs": [
        {
          "output_type": "stream",
          "name": "stdout",
          "text": [
            "37 T H\n",
            "32 T T\n",
            "You reached the wall after 2 chances.\n"
          ]
        }
      ],
      "source": [
        "# Reset your position to the center of the room\n",
        "position = 50\n",
        "\n",
        "# Set your counter to see how many chances you have taken to reach the wall\n",
        "counter = 0\n",
        "\n",
        "while position >= left_wall and position <= right_wall:\n",
        "    steps = get_steps()\n",
        "    coin1 = flip_coin()\n",
        "    coin2 = flip_coin()\n",
        "\n",
        "    print(steps, coin1, coin2)\n",
        "\n",
        "    if coin1 == coin2:\n",
        "        steps *= 2\n",
        "    else:\n",
        "        pass\n",
        "\n",
        "    if coin1 == 'H':\n",
        "        position += steps\n",
        "    else:\n",
        "        position -= steps\n",
        "    counter += 1  \n",
        "\n",
        "\n",
        "# The following statement does not need to be changed.\n",
        "print('You reached the wall after', counter, 'chances.')\n",
        "\n",
        "# The code below is for us to test your code. Do not modify it.\n",
        "assert(counter > 0)\n",
        "assert(position <= left_wall or position >= right_wall)"
      ]
    },
    {
      "cell_type": "markdown",
      "metadata": {
        "id": "dKL0LYd-E4JB"
      },
      "source": [
        "### (Optional) Reflections\n",
        "Add a text cell below to answer the following questions:\n",
        "1. What do you feel more confident about after completing this lab?\n",
        "2. What do you feel you can use more help with after completing this lab?\n",
        "3. Do you have any constructive suggestions on how we can help you or improve this lab?"
      ]
    },
    {
      "cell_type": "markdown",
      "source": [
        "1. I feel confident in iterating lines of code and writing for and while loops.\n",
        "2. I can use more help thinking of names for variables. I often find myself wanting to use the same names for each variable.\n",
        "3. This was a very good lab and I would not suggest any updates to it."
      ],
      "metadata": {
        "id": "O5o4g5y9wY0n"
      }
    },
    {
      "cell_type": "markdown",
      "metadata": {
        "id": "gB1aHDpyFYey"
      },
      "source": [
        "### Save your work to GitHub\n",
        "Please save this notebook to your lab repository."
      ]
    }
  ],
  "metadata": {
    "kernelspec": {
      "display_name": "Python 3.10.0 64-bit",
      "language": "python",
      "name": "python3"
    },
    "language_info": {
      "codemirror_mode": {
        "name": "ipython",
        "version": 3
      },
      "file_extension": ".py",
      "mimetype": "text/x-python",
      "name": "python",
      "nbconvert_exporter": "python",
      "pygments_lexer": "ipython3",
      "version": "3.10.0"
    },
    "vscode": {
      "interpreter": {
        "hash": "aee8b7b246df8f9039afb4144a1f6fd8d2ca17a180786b69acc140d282b71a49"
      }
    },
    "colab": {
      "provenance": []
    }
  },
  "nbformat": 4,
  "nbformat_minor": 0
}