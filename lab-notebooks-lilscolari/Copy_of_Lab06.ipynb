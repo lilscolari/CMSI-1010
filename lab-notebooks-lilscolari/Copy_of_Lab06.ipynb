{
  "cells": [
    {
      "cell_type": "markdown",
      "metadata": {
        "id": "view-in-github",
        "colab_type": "text"
      },
      "source": [
        "<a href=\"https://colab.research.google.com/github/LMU-CMSI-1010/lab-notebooks-lilscolari/blob/main/Copy_of_Lab06.ipynb\" target=\"_parent\"><img src=\"https://colab.research.google.com/assets/colab-badge.svg\" alt=\"Open In Colab\"/></a>"
      ]
    },
    {
      "cell_type": "markdown",
      "metadata": {
        "id": "1ffjBJA1dp2Y"
      },
      "source": [
        "<a href=\"https://colab.research.google.com/github/LMU-CMSI-1010/lab-notebooks-original/blob/main/Lab06.ipynb\" target=\"_parent\"><img src=\"https://colab.research.google.com/assets/colab-badge.svg\" alt=\"Open In Colab\"/></a>"
      ]
    },
    {
      "cell_type": "markdown",
      "metadata": {
        "id": "9aXfrLXg9seM"
      },
      "source": [
        "# Lab 06 Mixing Strings\n",
        "In this lab, you will practice working with strings and using loops with strings.\n",
        "\n",
        "## Warmup: Character counter\n",
        "\n",
        "In the following cell, **complete the function `count_character` that, given a string and character, returns the number of occurrences of the character in the string.** Right now, it just returns 0. We have some code to test your function and **you can add more calls to test it.**\n",
        "\n"
      ]
    },
    {
      "cell_type": "code",
      "execution_count": 7,
      "metadata": {
        "id": "Rt0kFDWS9RJU",
        "outputId": "fc24c4cc-a821-4d7f-ba45-77f68c9a5f36",
        "colab": {
          "base_uri": "https://localhost:8080/"
        }
      },
      "outputs": [
        {
          "output_type": "stream",
          "name": "stdout",
          "text": [
            "3\n",
            "4\n"
          ]
        }
      ],
      "source": [
        "# TODO: count_character is given a string s and a character c and returns the number\n",
        "# of occurrences of c in s\n",
        "def count_character(s, c):\n",
        "    counter = 0\n",
        "\n",
        "    # My Code:\n",
        "    for x in s:\n",
        "      if c == x:\n",
        "          counter += 1\n",
        "      else:\n",
        "          pass\n",
        "\n",
        "          \n",
        "    return counter\n",
        "\n",
        "# Debugging function calls. You can add more or change\n",
        "# The following should return 3\n",
        "char_count = count_character('banana', 'a')\n",
        "print(char_count)\n",
        "\n",
        "# The following call should return 4\n",
        "char_count = count_character('mississippi', 's')\n",
        "print(char_count) \n",
        "\n",
        "# The following tests your code. Do not modify it.\n",
        "assert(count_character('banana', 'a') == 3)\n",
        "assert(count_character('mississippi', 's') == 4)\n",
        "assert(count_character('loyola', 'l') == 2)"
      ]
    },
    {
      "cell_type": "markdown",
      "metadata": {
        "id": "y2c-tRWA91fr"
      },
      "source": [
        "## Repeating Strings\n",
        "Python gives you an operator to make multiple copies of a string. However, below we want you to **complete this function to return a string `s` repeated `n` times _using a loop_ instead.** You can **test your code by running the code we have provided and creating your own function calls.**"
      ]
    },
    {
      "cell_type": "code",
      "execution_count": 6,
      "metadata": {
        "id": "NMcvm3E4-sl_",
        "outputId": "53c21002-83ff-4b21-c2de-a34f7edab981",
        "colab": {
          "base_uri": "https://localhost:8080/"
        }
      },
      "outputs": [
        {
          "output_type": "stream",
          "name": "stdout",
          "text": [
            "hellohellohello\n"
          ]
        }
      ],
      "source": [
        "# TODO: repeat_string is given the string s and returns a string that is n copies\n",
        "# of it.\n",
        "def repeat_string(s, n):\n",
        "    out = ''\n",
        "\n",
        "    # My Code:\n",
        "    out = n * s\n",
        "    \n",
        "    return out\n",
        "\n",
        "print(repeat_string('hello', 3))\n",
        "\n",
        "# The code below tests your function. Do not modify it.\n",
        "assert(repeat_string('hello', 3) == 'hellohellohello')\n",
        "assert(repeat_string('hi', 5) == 'hihihihihi')"
      ]
    },
    {
      "cell_type": "markdown",
      "metadata": {
        "id": "zXC7orYI_T3E"
      },
      "source": [
        "## Mixing names\n",
        "In the following cell, you will write a program that will prompt a user for two names. The user should enter a first name and last name separated by a space.\n",
        "**You will have to figure out how to retrieve the first name and last name from the name input by the user. Then you will mix the two names up and output the new mixed names.**"
      ]
    },
    {
      "cell_type": "code",
      "execution_count": 8,
      "metadata": {
        "id": "fpq9XjRC_TJG",
        "colab": {
          "base_uri": "https://localhost:8080/"
        },
        "outputId": "15562c26-7fca-4053-bc88-987fdf65c0c1"
      },
      "outputs": [
        {
          "output_type": "stream",
          "name": "stdout",
          "text": [
            "Please enter a FIRST NAME followed by a LAST NAME separated by a space: Cameron Scolari\n",
            "Please enter another FIRST NAME followed by a LAST NAME separated by a space: Lainee Irribarren\n",
            "\n",
            "Here are the new mixed up names:\n",
            "\n",
            "Camenee Scolarren\n",
            "\n",
            "Lairon Irribari\n"
          ]
        }
      ],
      "source": [
        "import time\n",
        "\n",
        "name1 = input('Please enter a FIRST NAME followed by a LAST NAME separated by a space: ')\n",
        "name2 = input('Please enter another FIRST NAME followed by a LAST NAME separated by a space: ')\n",
        "print()\n",
        "\n",
        "list = name1.split()\n",
        "list2 = name2.split()\n",
        "\n",
        "\n",
        "first1 = list[0]\n",
        "last1 = list[1]\n",
        "first2 = list2[0]\n",
        "last2 = list2[1]\n",
        "\n",
        "lengthOne = round(len(first1) / 2)\n",
        "lengthTwo = round(len(last1) / 2)\n",
        "lengthThree = round(len(first2) / 2)\n",
        "lengthFour = round(len(last2) / 2)\n",
        "\n",
        "\n",
        "sub1 = first1[0:lengthOne]\n",
        "sub2 = last1[0:lengthTwo]\n",
        "sub3 = first2[0:lengthThree]\n",
        "sub4 = last2[0:lengthFour]\n",
        "sub5 = first1[lengthOne:len(first1)]\n",
        "sub6 = last1[lengthTwo:len(last1)]\n",
        "sub7 = first2[lengthThree:len(first2)]\n",
        "sub8 = last2[lengthFour:len(last2)]\n",
        "\n",
        "\n",
        "new_first_name1 = sub1.capitalize() + sub7.lower()\n",
        "new_last_name1 = sub2.capitalize() + sub8.lower()\n",
        "new_first_name2 = sub3.capitalize() + sub5.lower()\n",
        "new_last_name2 = sub4.capitalize() + sub6.lower()\n",
        "\n",
        "print('Here are the new mixed up names:')\n",
        "print()\n",
        "time.sleep(2)\n",
        "print(new_first_name1, new_last_name1)\n",
        "print()\n",
        "time.sleep(2)\n",
        "print(new_first_name2, new_last_name2)\n",
        "\n",
        "assert(new_first_name1 != '')\n",
        "assert(new_first_name2 != '')\n",
        "assert(new_last_name1 != '')\n",
        "assert(new_last_name2 != '')"
      ]
    },
    {
      "cell_type": "markdown",
      "metadata": {
        "id": "dKL0LYd-E4JB"
      },
      "source": [
        "### (Optional) Reflections\n",
        "Add a text cell below to answer the following questions:\n",
        "1. What do you feel more confident about after completing this lab?\n",
        "2. What do you feel you can use more help with after completing this lab?\n",
        "3. Do you have any constructive suggestions on how we can help you or improve this lab?"
      ]
    },
    {
      "cell_type": "markdown",
      "source": [
        "1. I feel confident with understanding the properties of strings.\n",
        "2. I need more help understanding the different functions I can do to strings.\n",
        "3. The mixing names part of the lab was hard to do on Colab so I had to write the code on PyCharm. I do not know how this can be improved but maybe splitting the exercise up into multiple parts would have made it easier to complete on Colab."
      ],
      "metadata": {
        "id": "w2Zbl7piLf0u"
      }
    },
    {
      "cell_type": "markdown",
      "source": [],
      "metadata": {
        "id": "w5n9jka_Lfrv"
      }
    },
    {
      "cell_type": "markdown",
      "metadata": {
        "id": "gB1aHDpyFYey"
      },
      "source": [
        "### Save your work to GitHub\n",
        "Please save this notebook to your lab repository."
      ]
    }
  ],
  "metadata": {
    "kernelspec": {
      "display_name": "Python 3",
      "language": "python",
      "name": "python3"
    },
    "language_info": {
      "codemirror_mode": {
        "name": "ipython",
        "version": 3
      },
      "file_extension": ".py",
      "mimetype": "text/x-python",
      "name": "python",
      "nbconvert_exporter": "python",
      "pygments_lexer": "ipython3",
      "version": "3.8.5"
    },
    "colab": {
      "provenance": [],
      "include_colab_link": true
    }
  },
  "nbformat": 4,
  "nbformat_minor": 0
}